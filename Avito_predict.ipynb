{
 "cells": [
  {
   "cell_type": "code",
   "execution_count": 2,
   "metadata": {},
   "outputs": [],
   "source": [
    "run /home/charubaiel/DataScienceBTC/CONF.py"
   ]
  },
  {
   "cell_type": "code",
   "execution_count": 3,
   "metadata": {},
   "outputs": [],
   "source": [
    "import collections\n",
    "import seaborn as sns"
   ]
  },
  {
   "cell_type": "code",
   "execution_count": 4,
   "metadata": {},
   "outputs": [],
   "source": [
    "\n",
    "df = pd.read_csv('/home/charubaiel/avito_data_clean.csv')"
   ]
  },
  {
   "cell_type": "code",
   "execution_count": 5,
   "metadata": {},
   "outputs": [
    {
     "data": {
      "text/plain": [
       "<matplotlib.axes._subplots.AxesSubplot at 0x7f8475365730>"
      ]
     },
     "execution_count": 5,
     "metadata": {},
     "output_type": "execute_result"
    },
    {
     "data": {
      "image/png": "[encoded data removed]",
      "text/plain": [
       "<Figure size 432x288 with 1 Axes>"
      ]
     },
     "metadata": {},
     "output_type": "display_data"
    }
   ],
   "source": [
    "df['price'].hist(bins=100)"
   ]
  },
  {
   "cell_type": "code",
   "execution_count": 6,
   "metadata": {},
   "outputs": [
    {
     "data": {
      "text/plain": [
       "<matplotlib.axes._subplots.AxesSubplot at 0x7f8474d65760>"
      ]
     },
     "execution_count": 6,
     "metadata": {},
     "output_type": "execute_result"
    },
    {
     "data": {
      "image/png": "[encoded data removed]",
      "text/plain": [
       "<Figure size 432x288 with 1 Axes>"
      ]
     },
     "metadata": {},
     "output_type": "display_data"
    }
   ],
   "source": [
    "df['m2'].hist(bins=100)"
   ]
  },
  {
   "cell_type": "code",
   "execution_count": 7,
   "metadata": {},
   "outputs": [
    {
     "data": {
      "text/html": [
       "<div>\n",
       "<style scoped>\n",
       "    .dataframe tbody tr th:only-of-type {\n",
       "        vertical-align: middle;\n",
       "    }\n",
       "\n",
       "    .dataframe tbody tr th {\n",
       "        vertical-align: top;\n",
       "    }\n",
       "\n",
       "    .dataframe thead th {\n",
       "        text-align: right;\n",
       "    }\n",
       "</style>\n",
       "<table border=\"1\" class=\"dataframe\">\n",
       "  <thead>\n",
       "    <tr style=\"text-align: right;\">\n",
       "      <th></th>\n",
       "      <th>price</th>\n",
       "      <th>dom</th>\n",
       "      <th>m2</th>\n",
       "      <th>floor</th>\n",
       "      <th>max_floors</th>\n",
       "      <th>rubm2</th>\n",
       "    </tr>\n",
       "    <tr>\n",
       "      <th>rooms</th>\n",
       "      <th></th>\n",
       "      <th></th>\n",
       "      <th></th>\n",
       "      <th></th>\n",
       "      <th></th>\n",
       "      <th></th>\n",
       "    </tr>\n",
       "  </thead>\n",
       "  <tbody>\n",
       "    <tr>\n",
       "      <th>1</th>\n",
       "      <td>1.840650e+06</td>\n",
       "      <td>30.197361</td>\n",
       "      <td>35.822631</td>\n",
       "      <td>4.594649</td>\n",
       "      <td>7.977094</td>\n",
       "      <td>50823.263711</td>\n",
       "    </tr>\n",
       "    <tr>\n",
       "      <th>2</th>\n",
       "      <td>2.510215e+06</td>\n",
       "      <td>31.295036</td>\n",
       "      <td>51.671551</td>\n",
       "      <td>4.449585</td>\n",
       "      <td>7.617072</td>\n",
       "      <td>47319.718756</td>\n",
       "    </tr>\n",
       "    <tr>\n",
       "      <th>3</th>\n",
       "      <td>3.385750e+06</td>\n",
       "      <td>30.570330</td>\n",
       "      <td>69.860165</td>\n",
       "      <td>4.765941</td>\n",
       "      <td>8.143098</td>\n",
       "      <td>46851.542537</td>\n",
       "    </tr>\n",
       "    <tr>\n",
       "      <th>4</th>\n",
       "      <td>4.750994e+06</td>\n",
       "      <td>29.287865</td>\n",
       "      <td>95.378833</td>\n",
       "      <td>5.189087</td>\n",
       "      <td>8.667921</td>\n",
       "      <td>46863.287586</td>\n",
       "    </tr>\n",
       "    <tr>\n",
       "      <th>5</th>\n",
       "      <td>7.119150e+06</td>\n",
       "      <td>26.100000</td>\n",
       "      <td>135.758750</td>\n",
       "      <td>5.212500</td>\n",
       "      <td>9.662500</td>\n",
       "      <td>49341.912038</td>\n",
       "    </tr>\n",
       "    <tr>\n",
       "      <th>6</th>\n",
       "      <td>1.213700e+07</td>\n",
       "      <td>30.700000</td>\n",
       "      <td>186.710000</td>\n",
       "      <td>7.000000</td>\n",
       "      <td>9.400000</td>\n",
       "      <td>55430.878222</td>\n",
       "    </tr>\n",
       "    <tr>\n",
       "      <th>Своб. планировка</th>\n",
       "      <td>7.090200e+06</td>\n",
       "      <td>14.850000</td>\n",
       "      <td>98.235000</td>\n",
       "      <td>8.050000</td>\n",
       "      <td>12.450000</td>\n",
       "      <td>69905.893027</td>\n",
       "    </tr>\n",
       "    <tr>\n",
       "      <th>Студия</th>\n",
       "      <td>2.050363e+06</td>\n",
       "      <td>21.446927</td>\n",
       "      <td>33.078771</td>\n",
       "      <td>5.592179</td>\n",
       "      <td>12.363128</td>\n",
       "      <td>61038.043902</td>\n",
       "    </tr>\n",
       "  </tbody>\n",
       "</table>\n",
       "</div>"
      ],
      "text/plain": [
       "                         price        dom          m2     floor  max_floors  \\\n",
       "rooms                                                                         \n",
       "1                 1.840650e+06  30.197361   35.822631  4.594649    7.977094   \n",
       "2                 2.510215e+06  31.295036   51.671551  4.449585    7.617072   \n",
       "3                 3.385750e+06  30.570330   69.860165  4.765941    8.143098   \n",
       "4                 4.750994e+06  29.287865   95.378833  5.189087    8.667921   \n",
       "5                 7.119150e+06  26.100000  135.758750  5.212500    9.662500   \n",
       "6                 1.213700e+07  30.700000  186.710000  7.000000    9.400000   \n",
       "Своб. планировка  7.090200e+06  14.850000   98.235000  8.050000   12.450000   \n",
       "Студия            2.050363e+06  21.446927   33.078771  5.592179   12.363128   \n",
       "\n",
       "                         rubm2  \n",
       "rooms                           \n",
       "1                 50823.263711  \n",
       "2                 47319.718756  \n",
       "3                 46851.542537  \n",
       "4                 46863.287586  \n",
       "5                 49341.912038  \n",
       "6                 55430.878222  \n",
       "Своб. планировка  69905.893027  \n",
       "Студия            61038.043902  "
      ]
     },
     "execution_count": 7,
     "metadata": {},
     "output_type": "execute_result"
    }
   ],
   "source": [
    "df.groupby(['rooms']).mean()"
   ]
  },
  {
   "cell_type": "code",
   "execution_count": 8,
   "metadata": {},
   "outputs": [
    {
     "data": {
      "text/html": [
       "<div>\n",
       "<style scoped>\n",
       "    .dataframe tbody tr th:only-of-type {\n",
       "        vertical-align: middle;\n",
       "    }\n",
       "\n",
       "    .dataframe tbody tr th {\n",
       "        vertical-align: top;\n",
       "    }\n",
       "\n",
       "    .dataframe thead th {\n",
       "        text-align: right;\n",
       "    }\n",
       "</style>\n",
       "<table border=\"1\" class=\"dataframe\">\n",
       "  <thead>\n",
       "    <tr style=\"text-align: right;\">\n",
       "      <th></th>\n",
       "      <th>adress</th>\n",
       "      <th>info</th>\n",
       "      <th>price</th>\n",
       "      <th>district</th>\n",
       "      <th>date</th>\n",
       "      <th>street</th>\n",
       "      <th>dom</th>\n",
       "      <th>clean</th>\n",
       "      <th>rooms</th>\n",
       "      <th>m2</th>\n",
       "      <th>floor</th>\n",
       "      <th>max_floors</th>\n",
       "      <th>rubm2</th>\n",
       "    </tr>\n",
       "  </thead>\n",
       "  <tbody>\n",
       "    <tr>\n",
       "      <th>0</th>\n",
       "      <td>Советский район, Горьковский, Волгоградская, 162</td>\n",
       "      <td>1-к квартира, 32 м², 1/2 эт.</td>\n",
       "      <td>970000</td>\n",
       "      <td>р-н Советский</td>\n",
       "      <td>4 июня 16:38</td>\n",
       "      <td>Волгоградская</td>\n",
       "      <td>162</td>\n",
       "      <td>Волгоградская162</td>\n",
       "      <td>1</td>\n",
       "      <td>32.0</td>\n",
       "      <td>1</td>\n",
       "      <td>2</td>\n",
       "      <td>30312.500000</td>\n",
       "    </tr>\n",
       "    <tr>\n",
       "      <th>1</th>\n",
       "      <td>Хользунова, 18/3</td>\n",
       "      <td>1-к квартира, 40 м², 16/17 эт.</td>\n",
       "      <td>2000000</td>\n",
       "      <td>р-н Краснооктябрьский</td>\n",
       "      <td>4 июня 14:35</td>\n",
       "      <td>Хользунова</td>\n",
       "      <td>18</td>\n",
       "      <td>Хользунова18</td>\n",
       "      <td>1</td>\n",
       "      <td>40.0</td>\n",
       "      <td>16</td>\n",
       "      <td>17</td>\n",
       "      <td>50000.000000</td>\n",
       "    </tr>\n",
       "    <tr>\n",
       "      <th>2</th>\n",
       "      <td>Аэропорт, 16</td>\n",
       "      <td>1-к квартира, 30.3 м², 2/5 эт.</td>\n",
       "      <td>1290000</td>\n",
       "      <td>р-н Дзержинский</td>\n",
       "      <td>3 июня 16:12</td>\n",
       "      <td>Аэропорт</td>\n",
       "      <td>16</td>\n",
       "      <td>Аэропорт16</td>\n",
       "      <td>1</td>\n",
       "      <td>30.3</td>\n",
       "      <td>2</td>\n",
       "      <td>5</td>\n",
       "      <td>42574.257426</td>\n",
       "    </tr>\n",
       "    <tr>\n",
       "      <th>3</th>\n",
       "      <td>Лавочкина, 7</td>\n",
       "      <td>1-к квартира, 41 м², 8/22 эт.</td>\n",
       "      <td>3050000</td>\n",
       "      <td>р-н Ворошиловский</td>\n",
       "      <td>4 июня 17:59</td>\n",
       "      <td>Лавочкина</td>\n",
       "      <td>7</td>\n",
       "      <td>Лавочкина7</td>\n",
       "      <td>1</td>\n",
       "      <td>41.0</td>\n",
       "      <td>8</td>\n",
       "      <td>22</td>\n",
       "      <td>74390.243902</td>\n",
       "    </tr>\n",
       "    <tr>\n",
       "      <th>4</th>\n",
       "      <td>Волгоград, Богунская, 12</td>\n",
       "      <td>1-к квартира, 32.4 м², 3/9 эт.</td>\n",
       "      <td>1700000</td>\n",
       "      <td>р-н Краснооктябрьский</td>\n",
       "      <td>4 июня 17:42</td>\n",
       "      <td>Богунская</td>\n",
       "      <td>12</td>\n",
       "      <td>Богунская12</td>\n",
       "      <td>1</td>\n",
       "      <td>32.4</td>\n",
       "      <td>3</td>\n",
       "      <td>9</td>\n",
       "      <td>52469.135802</td>\n",
       "    </tr>\n",
       "    <tr>\n",
       "      <th>...</th>\n",
       "      <td>...</td>\n",
       "      <td>...</td>\n",
       "      <td>...</td>\n",
       "      <td>...</td>\n",
       "      <td>...</td>\n",
       "      <td>...</td>\n",
       "      <td>...</td>\n",
       "      <td>...</td>\n",
       "      <td>...</td>\n",
       "      <td>...</td>\n",
       "      <td>...</td>\n",
       "      <td>...</td>\n",
       "      <td>...</td>\n",
       "    </tr>\n",
       "    <tr>\n",
       "      <th>19247</th>\n",
       "      <td>Рокоссовского, 38</td>\n",
       "      <td>4-к квартира, 150 м², 4/9 эт.</td>\n",
       "      <td>19800000</td>\n",
       "      <td>р-н Центральный</td>\n",
       "      <td>NaN</td>\n",
       "      <td>Рокоссовского</td>\n",
       "      <td>38</td>\n",
       "      <td>Рокоссовского38</td>\n",
       "      <td>4</td>\n",
       "      <td>150.0</td>\n",
       "      <td>4</td>\n",
       "      <td>9</td>\n",
       "      <td>132000.000000</td>\n",
       "    </tr>\n",
       "    <tr>\n",
       "      <th>19248</th>\n",
       "      <td>Волгоград, 51 Гвардейской дивизии, 30</td>\n",
       "      <td>Студия, 21.7 м², 7/10 эт.</td>\n",
       "      <td>1450000</td>\n",
       "      <td>р-н Дзержинский</td>\n",
       "      <td>NaN</td>\n",
       "      <td>51 Гвардейской дивизии</td>\n",
       "      <td>30</td>\n",
       "      <td>51 Гвардейской дивизии30</td>\n",
       "      <td>Студия</td>\n",
       "      <td>21.7</td>\n",
       "      <td>7</td>\n",
       "      <td>10</td>\n",
       "      <td>66820.276498</td>\n",
       "    </tr>\n",
       "    <tr>\n",
       "      <th>19249</th>\n",
       "      <td>50 лет Октября, 40</td>\n",
       "      <td>4-к квартира, 198.6 м², 3/9 эт.</td>\n",
       "      <td>10500000</td>\n",
       "      <td>р-н Красноармейский</td>\n",
       "      <td>NaN</td>\n",
       "      <td>50 лет Октября</td>\n",
       "      <td>40</td>\n",
       "      <td>50 лет Октября40</td>\n",
       "      <td>4</td>\n",
       "      <td>198.6</td>\n",
       "      <td>3</td>\n",
       "      <td>9</td>\n",
       "      <td>52870.090634</td>\n",
       "    </tr>\n",
       "    <tr>\n",
       "      <th>19250</th>\n",
       "      <td>Калинина, 2А</td>\n",
       "      <td>4-к квартира, 114 м², 21/27 эт.</td>\n",
       "      <td>10200000</td>\n",
       "      <td>р-н Ворошиловский</td>\n",
       "      <td>NaN</td>\n",
       "      <td>Калинина</td>\n",
       "      <td>2</td>\n",
       "      <td>Калинина2</td>\n",
       "      <td>4</td>\n",
       "      <td>114.0</td>\n",
       "      <td>21</td>\n",
       "      <td>27</td>\n",
       "      <td>89473.684211</td>\n",
       "    </tr>\n",
       "    <tr>\n",
       "      <th>19251</th>\n",
       "      <td>Советская, 7</td>\n",
       "      <td>5-к квартира, 174 м², 3/5 эт.</td>\n",
       "      <td>17000000</td>\n",
       "      <td>р-н Центральный</td>\n",
       "      <td>NaN</td>\n",
       "      <td>Советская</td>\n",
       "      <td>7</td>\n",
       "      <td>Советская7</td>\n",
       "      <td>5</td>\n",
       "      <td>174.0</td>\n",
       "      <td>3</td>\n",
       "      <td>5</td>\n",
       "      <td>97701.149425</td>\n",
       "    </tr>\n",
       "  </tbody>\n",
       "</table>\n",
       "<p>19252 rows × 13 columns</p>\n",
       "</div>"
      ],
      "text/plain": [
       "                                                 adress  \\\n",
       "0      Советский район, Горьковский, Волгоградская, 162   \n",
       "1                                      Хользунова, 18/3   \n",
       "2                                          Аэропорт, 16   \n",
       "3                                          Лавочкина, 7   \n",
       "4                              Волгоград, Богунская, 12   \n",
       "...                                                 ...   \n",
       "19247                                 Рокоссовского, 38   \n",
       "19248             Волгоград, 51 Гвардейской дивизии, 30   \n",
       "19249                                50 лет Октября, 40   \n",
       "19250                                      Калинина, 2А   \n",
       "19251                                      Советская, 7   \n",
       "\n",
       "                                  info     price               district  \\\n",
       "0         1-к квартира, 32 м², 1/2 эт.    970000          р-н Советский   \n",
       "1       1-к квартира, 40 м², 16/17 эт.   2000000  р-н Краснооктябрьский   \n",
       "2       1-к квартира, 30.3 м², 2/5 эт.   1290000        р-н Дзержинский   \n",
       "3        1-к квартира, 41 м², 8/22 эт.   3050000      р-н Ворошиловский   \n",
       "4       1-к квартира, 32.4 м², 3/9 эт.   1700000  р-н Краснооктябрьский   \n",
       "...                                ...       ...                    ...   \n",
       "19247    4-к квартира, 150 м², 4/9 эт.  19800000        р-н Центральный   \n",
       "19248        Студия, 21.7 м², 7/10 эт.   1450000        р-н Дзержинский   \n",
       "19249  4-к квартира, 198.6 м², 3/9 эт.  10500000    р-н Красноармейский   \n",
       "19250  4-к квартира, 114 м², 21/27 эт.  10200000      р-н Ворошиловский   \n",
       "19251    5-к квартира, 174 м², 3/5 эт.  17000000        р-н Центральный   \n",
       "\n",
       "               date                  street  dom                     clean  \\\n",
       "0      4 июня 16:38           Волгоградская  162          Волгоградская162   \n",
       "1      4 июня 14:35              Хользунова   18              Хользунова18   \n",
       "2      3 июня 16:12                Аэропорт   16                Аэропорт16   \n",
       "3      4 июня 17:59               Лавочкина    7                Лавочкина7   \n",
       "4      4 июня 17:42               Богунская   12               Богунская12   \n",
       "...             ...                     ...  ...                       ...   \n",
       "19247           NaN           Рокоссовского   38           Рокоссовского38   \n",
       "19248           NaN  51 Гвардейской дивизии   30  51 Гвардейской дивизии30   \n",
       "19249           NaN          50 лет Октября   40          50 лет Октября40   \n",
       "19250           NaN                Калинина    2                 Калинина2   \n",
       "19251           NaN               Советская    7                Советская7   \n",
       "\n",
       "        rooms     m2  floor  max_floors          rubm2  \n",
       "0           1   32.0      1           2   30312.500000  \n",
       "1           1   40.0     16          17   50000.000000  \n",
       "2           1   30.3      2           5   42574.257426  \n",
       "3           1   41.0      8          22   74390.243902  \n",
       "4           1   32.4      3           9   52469.135802  \n",
       "...       ...    ...    ...         ...            ...  \n",
       "19247       4  150.0      4           9  132000.000000  \n",
       "19248  Студия   21.7      7          10   66820.276498  \n",
       "19249       4  198.6      3           9   52870.090634  \n",
       "19250       4  114.0     21          27   89473.684211  \n",
       "19251       5  174.0      3           5   97701.149425  \n",
       "\n",
       "[19252 rows x 13 columns]"
      ]
     },
     "execution_count": 8,
     "metadata": {},
     "output_type": "execute_result"
    }
   ],
   "source": [
    "df"
   ]
  },
  {
   "cell_type": "code",
   "execution_count": 9,
   "metadata": {},
   "outputs": [],
   "source": [
    "df.district=df.district.fillna('Missed')"
   ]
  },
  {
   "cell_type": "code",
   "execution_count": 10,
   "metadata": {},
   "outputs": [],
   "source": [
    "df['m2_range']=pd.cut(df.m2,bins=[0,30,39.9,57.8,65.9,88,105,116,df.m2.max()])"
   ]
  },
  {
   "cell_type": "code",
   "execution_count": 11,
   "metadata": {},
   "outputs": [],
   "source": [
    "df['rub_by_district']=df.groupby(['district','rooms','max_floors'])['rubm2'].transform('mean')"
   ]
  },
  {
   "cell_type": "code",
   "execution_count": 12,
   "metadata": {},
   "outputs": [],
   "source": [
    "gb_distr_rubm2=df.groupby(['district','rooms','max_floors'])['rubm2'].mean().rename('rub_by_district').reset_index()"
   ]
  },
  {
   "cell_type": "code",
   "execution_count": 13,
   "metadata": {},
   "outputs": [],
   "source": [
    "gb_distr_count=df.groupby(['district','rooms','max_floors']).clean.count().rename('count_by_district').reset_index()"
   ]
  },
  {
   "cell_type": "code",
   "execution_count": 14,
   "metadata": {},
   "outputs": [],
   "source": [
    "gb_street_count=df.groupby(['street','rooms','max_floors']).clean.count().rename('count_by_street').reset_index()"
   ]
  },
  {
   "cell_type": "code",
   "execution_count": 15,
   "metadata": {},
   "outputs": [],
   "source": [
    "df['count_by_district']=df.groupby(['district','rooms','max_floors']).clean.transform('count')"
   ]
  },
  {
   "cell_type": "code",
   "execution_count": 16,
   "metadata": {},
   "outputs": [],
   "source": [
    "df['count_by_street']=df.groupby(['street','rooms','max_floors']).clean.transform('count')"
   ]
  },
  {
   "cell_type": "code",
   "execution_count": 17,
   "metadata": {},
   "outputs": [],
   "source": [
    "df.date=df.date.str.split(expand=True)[[0,1]].astype('str').apply(' '.join,axis=1)"
   ]
  },
  {
   "cell_type": "code",
   "execution_count": 18,
   "metadata": {},
   "outputs": [],
   "source": [
    "df.date=df.date.replace('nan nan','4 июня')\n",
    "df.date=df.date.str.replace(' июня',\"/06/2020\")\n",
    "df.date= df.date.str.replace(' мая','/05/2020')\n",
    "df.date= df.date.str.replace(' апреля','/04/2020')\n",
    "df.date=pd.to_datetime(df.date)"
   ]
  },
  {
   "cell_type": "code",
   "execution_count": 19,
   "metadata": {},
   "outputs": [
    {
     "data": {
      "text/html": [
       "<div>\n",
       "<style scoped>\n",
       "    .dataframe tbody tr th:only-of-type {\n",
       "        vertical-align: middle;\n",
       "    }\n",
       "\n",
       "    .dataframe tbody tr th {\n",
       "        vertical-align: top;\n",
       "    }\n",
       "\n",
       "    .dataframe thead th {\n",
       "        text-align: right;\n",
       "    }\n",
       "</style>\n",
       "<table border=\"1\" class=\"dataframe\">\n",
       "  <thead>\n",
       "    <tr style=\"text-align: right;\">\n",
       "      <th></th>\n",
       "      <th>price</th>\n",
       "      <th>dom</th>\n",
       "      <th>m2</th>\n",
       "      <th>floor</th>\n",
       "      <th>max_floors</th>\n",
       "      <th>rubm2</th>\n",
       "      <th>rub_by_district</th>\n",
       "      <th>count_by_district</th>\n",
       "      <th>count_by_street</th>\n",
       "    </tr>\n",
       "    <tr>\n",
       "      <th>district</th>\n",
       "      <th></th>\n",
       "      <th></th>\n",
       "      <th></th>\n",
       "      <th></th>\n",
       "      <th></th>\n",
       "      <th></th>\n",
       "      <th></th>\n",
       "      <th></th>\n",
       "      <th></th>\n",
       "    </tr>\n",
       "  </thead>\n",
       "  <tbody>\n",
       "    <tr>\n",
       "      <th>Missed</th>\n",
       "      <td>1.258926e+06</td>\n",
       "      <td>7.365385</td>\n",
       "      <td>48.451923</td>\n",
       "      <td>2.115385</td>\n",
       "      <td>2.826923</td>\n",
       "      <td>25536.063296</td>\n",
       "      <td>25536.063296</td>\n",
       "      <td>7.884615</td>\n",
       "      <td>3.192308</td>\n",
       "    </tr>\n",
       "    <tr>\n",
       "      <th>р-н Ворошиловский</th>\n",
       "      <td>3.584823e+06</td>\n",
       "      <td>20.909383</td>\n",
       "      <td>60.953599</td>\n",
       "      <td>5.102185</td>\n",
       "      <td>9.334833</td>\n",
       "      <td>56881.723971</td>\n",
       "      <td>56881.723971</td>\n",
       "      <td>102.832905</td>\n",
       "      <td>11.145244</td>\n",
       "    </tr>\n",
       "    <tr>\n",
       "      <th>р-н Дзержинский</th>\n",
       "      <td>2.930188e+06</td>\n",
       "      <td>36.248826</td>\n",
       "      <td>57.671030</td>\n",
       "      <td>4.987296</td>\n",
       "      <td>8.745374</td>\n",
       "      <td>50814.496547</td>\n",
       "      <td>50814.496547</td>\n",
       "      <td>228.576912</td>\n",
       "      <td>19.630213</td>\n",
       "    </tr>\n",
       "    <tr>\n",
       "      <th>р-н Кировский</th>\n",
       "      <td>1.942112e+06</td>\n",
       "      <td>57.600711</td>\n",
       "      <td>47.434301</td>\n",
       "      <td>3.786730</td>\n",
       "      <td>6.459716</td>\n",
       "      <td>41658.818104</td>\n",
       "      <td>41658.818104</td>\n",
       "      <td>124.071090</td>\n",
       "      <td>21.342417</td>\n",
       "    </tr>\n",
       "    <tr>\n",
       "      <th>р-н Красноармейский</th>\n",
       "      <td>1.873896e+06</td>\n",
       "      <td>31.444095</td>\n",
       "      <td>50.992907</td>\n",
       "      <td>3.905660</td>\n",
       "      <td>6.619147</td>\n",
       "      <td>36767.730519</td>\n",
       "      <td>36767.730519</td>\n",
       "      <td>272.648498</td>\n",
       "      <td>20.829490</td>\n",
       "    </tr>\n",
       "    <tr>\n",
       "      <th>р-н Краснооктябрьский</th>\n",
       "      <td>2.424722e+06</td>\n",
       "      <td>37.020483</td>\n",
       "      <td>51.919009</td>\n",
       "      <td>4.444490</td>\n",
       "      <td>7.457190</td>\n",
       "      <td>47102.852728</td>\n",
       "      <td>47102.852728</td>\n",
       "      <td>207.785744</td>\n",
       "      <td>20.164687</td>\n",
       "    </tr>\n",
       "    <tr>\n",
       "      <th>р-н Советский</th>\n",
       "      <td>2.599414e+06</td>\n",
       "      <td>20.659100</td>\n",
       "      <td>53.315427</td>\n",
       "      <td>4.662463</td>\n",
       "      <td>7.874317</td>\n",
       "      <td>48723.446897</td>\n",
       "      <td>48723.446897</td>\n",
       "      <td>142.753678</td>\n",
       "      <td>12.605717</td>\n",
       "    </tr>\n",
       "    <tr>\n",
       "      <th>р-н Тракторозаводский</th>\n",
       "      <td>2.109681e+06</td>\n",
       "      <td>22.989977</td>\n",
       "      <td>51.119271</td>\n",
       "      <td>4.188155</td>\n",
       "      <td>7.028246</td>\n",
       "      <td>41710.082507</td>\n",
       "      <td>41710.082507</td>\n",
       "      <td>166.211845</td>\n",
       "      <td>19.054670</td>\n",
       "    </tr>\n",
       "    <tr>\n",
       "      <th>р-н Центральный</th>\n",
       "      <td>4.299788e+06</td>\n",
       "      <td>18.964605</td>\n",
       "      <td>64.864443</td>\n",
       "      <td>5.890561</td>\n",
       "      <td>10.214809</td>\n",
       "      <td>64466.039401</td>\n",
       "      <td>64466.039401</td>\n",
       "      <td>107.873881</td>\n",
       "      <td>16.072823</td>\n",
       "    </tr>\n",
       "  </tbody>\n",
       "</table>\n",
       "</div>"
      ],
      "text/plain": [
       "                              price        dom         m2     floor  \\\n",
       "district                                                              \n",
       "Missed                 1.258926e+06   7.365385  48.451923  2.115385   \n",
       "р-н Ворошиловский      3.584823e+06  20.909383  60.953599  5.102185   \n",
       "р-н Дзержинский        2.930188e+06  36.248826  57.671030  4.987296   \n",
       "р-н Кировский          1.942112e+06  57.600711  47.434301  3.786730   \n",
       "р-н Красноармейский    1.873896e+06  31.444095  50.992907  3.905660   \n",
       "р-н Краснооктябрьский  2.424722e+06  37.020483  51.919009  4.444490   \n",
       "р-н Советский          2.599414e+06  20.659100  53.315427  4.662463   \n",
       "р-н Тракторозаводский  2.109681e+06  22.989977  51.119271  4.188155   \n",
       "р-н Центральный        4.299788e+06  18.964605  64.864443  5.890561   \n",
       "\n",
       "                       max_floors         rubm2  rub_by_district  \\\n",
       "district                                                           \n",
       "Missed                   2.826923  25536.063296     25536.063296   \n",
       "р-н Ворошиловский        9.334833  56881.723971     56881.723971   \n",
       "р-н Дзержинский          8.745374  50814.496547     50814.496547   \n",
       "р-н Кировский            6.459716  41658.818104     41658.818104   \n",
       "р-н Красноармейский      6.619147  36767.730519     36767.730519   \n",
       "р-н Краснооктябрьский    7.457190  47102.852728     47102.852728   \n",
       "р-н Советский            7.874317  48723.446897     48723.446897   \n",
       "р-н Тракторозаводский    7.028246  41710.082507     41710.082507   \n",
       "р-н Центральный         10.214809  64466.039401     64466.039401   \n",
       "\n",
       "                       count_by_district  count_by_street  \n",
       "district                                                   \n",
       "Missed                          7.884615         3.192308  \n",
       "р-н Ворошиловский             102.832905        11.145244  \n",
       "р-н Дзержинский               228.576912        19.630213  \n",
       "р-н Кировский                 124.071090        21.342417  \n",
       "р-н Красноармейский           272.648498        20.829490  \n",
       "р-н Краснооктябрьский         207.785744        20.164687  \n",
       "р-н Советский                 142.753678        12.605717  \n",
       "р-н Тракторозаводский         166.211845        19.054670  \n",
       "р-н Центральный               107.873881        16.072823  "
      ]
     },
     "execution_count": 19,
     "metadata": {},
     "output_type": "execute_result"
    }
   ],
   "source": [
    "df.groupby('district').mean()"
   ]
  },
  {
   "cell_type": "code",
   "execution_count": 20,
   "metadata": {},
   "outputs": [],
   "source": [
    "data = df.drop(['price','rubm2','clean','date','info','adress'],axis=1)\n",
    "targ = df['price']"
   ]
  },
  {
   "cell_type": "code",
   "execution_count": 21,
   "metadata": {},
   "outputs": [],
   "source": [
    "d_=collections.defaultdict(preprocessing.LabelEncoder)"
   ]
  },
  {
   "cell_type": "code",
   "execution_count": 22,
   "metadata": {},
   "outputs": [],
   "source": [
    "data_mani = data.copy()"
   ]
  },
  {
   "cell_type": "code",
   "execution_count": 23,
   "metadata": {},
   "outputs": [
    {
     "name": "stderr",
     "output_type": "stream",
     "text": [
      "100%|██████████| 11/11 [00:00<00:00, 111.26it/s]\n"
     ]
    }
   ],
   "source": [
    "data_mani.loc[:,data_mani.select_dtypes(include=['category','O']).columns] = data_mani.progress_apply(lambda x: d_[x.name].fit_transform(x) if x.dtype not in [float,int] else x)"
   ]
  },
  {
   "cell_type": "code",
   "execution_count": 24,
   "metadata": {},
   "outputs": [
    {
     "data": {
      "text/html": [
       "<div>\n",
       "<style scoped>\n",
       "    .dataframe tbody tr th:only-of-type {\n",
       "        vertical-align: middle;\n",
       "    }\n",
       "\n",
       "    .dataframe tbody tr th {\n",
       "        vertical-align: top;\n",
       "    }\n",
       "\n",
       "    .dataframe thead th {\n",
       "        text-align: right;\n",
       "    }\n",
       "</style>\n",
       "<table border=\"1\" class=\"dataframe\">\n",
       "  <thead>\n",
       "    <tr style=\"text-align: right;\">\n",
       "      <th></th>\n",
       "      <th>district</th>\n",
       "      <th>street</th>\n",
       "      <th>dom</th>\n",
       "      <th>rooms</th>\n",
       "      <th>m2</th>\n",
       "      <th>floor</th>\n",
       "      <th>max_floors</th>\n",
       "      <th>m2_range</th>\n",
       "      <th>rub_by_district</th>\n",
       "      <th>count_by_district</th>\n",
       "      <th>count_by_street</th>\n",
       "    </tr>\n",
       "  </thead>\n",
       "  <tbody>\n",
       "    <tr>\n",
       "      <th>0</th>\n",
       "      <td>6</td>\n",
       "      <td>95</td>\n",
       "      <td>162</td>\n",
       "      <td>0</td>\n",
       "      <td>32.0</td>\n",
       "      <td>1</td>\n",
       "      <td>2</td>\n",
       "      <td>1</td>\n",
       "      <td>38064.537811</td>\n",
       "      <td>21</td>\n",
       "      <td>3</td>\n",
       "    </tr>\n",
       "    <tr>\n",
       "      <th>1</th>\n",
       "      <td>5</td>\n",
       "      <td>441</td>\n",
       "      <td>18</td>\n",
       "      <td>0</td>\n",
       "      <td>40.0</td>\n",
       "      <td>16</td>\n",
       "      <td>17</td>\n",
       "      <td>2</td>\n",
       "      <td>49220.430376</td>\n",
       "      <td>14</td>\n",
       "      <td>12</td>\n",
       "    </tr>\n",
       "    <tr>\n",
       "      <th>2</th>\n",
       "      <td>2</td>\n",
       "      <td>52</td>\n",
       "      <td>16</td>\n",
       "      <td>0</td>\n",
       "      <td>30.3</td>\n",
       "      <td>2</td>\n",
       "      <td>5</td>\n",
       "      <td>1</td>\n",
       "      <td>49553.039306</td>\n",
       "      <td>251</td>\n",
       "      <td>3</td>\n",
       "    </tr>\n",
       "    <tr>\n",
       "      <th>3</th>\n",
       "      <td>1</td>\n",
       "      <td>248</td>\n",
       "      <td>7</td>\n",
       "      <td>0</td>\n",
       "      <td>41.0</td>\n",
       "      <td>8</td>\n",
       "      <td>22</td>\n",
       "      <td>2</td>\n",
       "      <td>67969.975551</td>\n",
       "      <td>12</td>\n",
       "      <td>12</td>\n",
       "    </tr>\n",
       "    <tr>\n",
       "      <th>4</th>\n",
       "      <td>5</td>\n",
       "      <td>73</td>\n",
       "      <td>12</td>\n",
       "      <td>0</td>\n",
       "      <td>32.4</td>\n",
       "      <td>3</td>\n",
       "      <td>9</td>\n",
       "      <td>1</td>\n",
       "      <td>52763.382062</td>\n",
       "      <td>219</td>\n",
       "      <td>2</td>\n",
       "    </tr>\n",
       "    <tr>\n",
       "      <th>...</th>\n",
       "      <td>...</td>\n",
       "      <td>...</td>\n",
       "      <td>...</td>\n",
       "      <td>...</td>\n",
       "      <td>...</td>\n",
       "      <td>...</td>\n",
       "      <td>...</td>\n",
       "      <td>...</td>\n",
       "      <td>...</td>\n",
       "      <td>...</td>\n",
       "      <td>...</td>\n",
       "    </tr>\n",
       "    <tr>\n",
       "      <th>19247</th>\n",
       "      <td>8</td>\n",
       "      <td>364</td>\n",
       "      <td>38</td>\n",
       "      <td>3</td>\n",
       "      <td>150.0</td>\n",
       "      <td>4</td>\n",
       "      <td>9</td>\n",
       "      <td>7</td>\n",
       "      <td>55620.030259</td>\n",
       "      <td>45</td>\n",
       "      <td>13</td>\n",
       "    </tr>\n",
       "    <tr>\n",
       "      <th>19248</th>\n",
       "      <td>2</td>\n",
       "      <td>21</td>\n",
       "      <td>30</td>\n",
       "      <td>7</td>\n",
       "      <td>21.7</td>\n",
       "      <td>7</td>\n",
       "      <td>10</td>\n",
       "      <td>0</td>\n",
       "      <td>62727.534869</td>\n",
       "      <td>6</td>\n",
       "      <td>6</td>\n",
       "    </tr>\n",
       "    <tr>\n",
       "      <th>19249</th>\n",
       "      <td>4</td>\n",
       "      <td>19</td>\n",
       "      <td>40</td>\n",
       "      <td>3</td>\n",
       "      <td>198.6</td>\n",
       "      <td>3</td>\n",
       "      <td>9</td>\n",
       "      <td>7</td>\n",
       "      <td>36258.636421</td>\n",
       "      <td>53</td>\n",
       "      <td>2</td>\n",
       "    </tr>\n",
       "    <tr>\n",
       "      <th>19250</th>\n",
       "      <td>1</td>\n",
       "      <td>186</td>\n",
       "      <td>2</td>\n",
       "      <td>3</td>\n",
       "      <td>114.0</td>\n",
       "      <td>21</td>\n",
       "      <td>27</td>\n",
       "      <td>6</td>\n",
       "      <td>89473.684211</td>\n",
       "      <td>2</td>\n",
       "      <td>2</td>\n",
       "    </tr>\n",
       "    <tr>\n",
       "      <th>19251</th>\n",
       "      <td>8</td>\n",
       "      <td>388</td>\n",
       "      <td>7</td>\n",
       "      <td>4</td>\n",
       "      <td>174.0</td>\n",
       "      <td>3</td>\n",
       "      <td>5</td>\n",
       "      <td>7</td>\n",
       "      <td>97701.149425</td>\n",
       "      <td>2</td>\n",
       "      <td>2</td>\n",
       "    </tr>\n",
       "  </tbody>\n",
       "</table>\n",
       "<p>19252 rows × 11 columns</p>\n",
       "</div>"
      ],
      "text/plain": [
       "       district  street  dom  rooms     m2  floor  max_floors  m2_range  \\\n",
       "0             6      95  162      0   32.0      1           2         1   \n",
       "1             5     441   18      0   40.0     16          17         2   \n",
       "2             2      52   16      0   30.3      2           5         1   \n",
       "3             1     248    7      0   41.0      8          22         2   \n",
       "4             5      73   12      0   32.4      3           9         1   \n",
       "...         ...     ...  ...    ...    ...    ...         ...       ...   \n",
       "19247         8     364   38      3  150.0      4           9         7   \n",
       "19248         2      21   30      7   21.7      7          10         0   \n",
       "19249         4      19   40      3  198.6      3           9         7   \n",
       "19250         1     186    2      3  114.0     21          27         6   \n",
       "19251         8     388    7      4  174.0      3           5         7   \n",
       "\n",
       "       rub_by_district  count_by_district  count_by_street  \n",
       "0         38064.537811                 21                3  \n",
       "1         49220.430376                 14               12  \n",
       "2         49553.039306                251                3  \n",
       "3         67969.975551                 12               12  \n",
       "4         52763.382062                219                2  \n",
       "...                ...                ...              ...  \n",
       "19247     55620.030259                 45               13  \n",
       "19248     62727.534869                  6                6  \n",
       "19249     36258.636421                 53                2  \n",
       "19250     89473.684211                  2                2  \n",
       "19251     97701.149425                  2                2  \n",
       "\n",
       "[19252 rows x 11 columns]"
      ]
     },
     "execution_count": 24,
     "metadata": {},
     "output_type": "execute_result"
    }
   ],
   "source": [
    "data_mani"
   ]
  },
  {
   "cell_type": "code",
   "execution_count": 395,
   "metadata": {},
   "outputs": [],
   "source": [
    "x,xv,y,yv = model_selection.train_test_split(data_mani,targ,test_size= 0.2)"
   ]
  },
  {
   "cell_type": "code",
   "execution_count": 362,
   "metadata": {},
   "outputs": [
    {
     "data": {
      "text/html": [
       "<div>\n",
       "<style scoped>\n",
       "    .dataframe tbody tr th:only-of-type {\n",
       "        vertical-align: middle;\n",
       "    }\n",
       "\n",
       "    .dataframe tbody tr th {\n",
       "        vertical-align: top;\n",
       "    }\n",
       "\n",
       "    .dataframe thead th {\n",
       "        text-align: right;\n",
       "    }\n",
       "</style>\n",
       "<table border=\"1\" class=\"dataframe\">\n",
       "  <thead>\n",
       "    <tr style=\"text-align: right;\">\n",
       "      <th></th>\n",
       "      <th>district</th>\n",
       "      <th>street</th>\n",
       "      <th>dom</th>\n",
       "      <th>rooms</th>\n",
       "      <th>m2</th>\n",
       "      <th>floor</th>\n",
       "      <th>max_floors</th>\n",
       "      <th>m2_range</th>\n",
       "      <th>rub_by_district</th>\n",
       "      <th>count_by_district</th>\n",
       "      <th>count_by_street</th>\n",
       "    </tr>\n",
       "  </thead>\n",
       "  <tbody>\n",
       "    <tr>\n",
       "      <th>6422</th>\n",
       "      <td>5</td>\n",
       "      <td>87</td>\n",
       "      <td>8</td>\n",
       "      <td>3</td>\n",
       "      <td>75.5</td>\n",
       "      <td>5</td>\n",
       "      <td>5</td>\n",
       "      <td>4</td>\n",
       "      <td>41496.410808</td>\n",
       "      <td>187</td>\n",
       "      <td>3</td>\n",
       "    </tr>\n",
       "    <tr>\n",
       "      <th>11869</th>\n",
       "      <td>2</td>\n",
       "      <td>102</td>\n",
       "      <td>14</td>\n",
       "      <td>1</td>\n",
       "      <td>35.0</td>\n",
       "      <td>5</td>\n",
       "      <td>5</td>\n",
       "      <td>1</td>\n",
       "      <td>49553.039306</td>\n",
       "      <td>251</td>\n",
       "      <td>6</td>\n",
       "    </tr>\n",
       "    <tr>\n",
       "      <th>18600</th>\n",
       "      <td>5</td>\n",
       "      <td>357</td>\n",
       "      <td>62</td>\n",
       "      <td>4</td>\n",
       "      <td>84.0</td>\n",
       "      <td>8</td>\n",
       "      <td>10</td>\n",
       "      <td>4</td>\n",
       "      <td>49101.286836</td>\n",
       "      <td>9</td>\n",
       "      <td>1</td>\n",
       "    </tr>\n",
       "    <tr>\n",
       "      <th>908</th>\n",
       "      <td>5</td>\n",
       "      <td>31</td>\n",
       "      <td>3</td>\n",
       "      <td>1</td>\n",
       "      <td>38.0</td>\n",
       "      <td>7</td>\n",
       "      <td>9</td>\n",
       "      <td>1</td>\n",
       "      <td>52763.382062</td>\n",
       "      <td>219</td>\n",
       "      <td>8</td>\n",
       "    </tr>\n",
       "    <tr>\n",
       "      <th>17309</th>\n",
       "      <td>4</td>\n",
       "      <td>127</td>\n",
       "      <td>16</td>\n",
       "      <td>3</td>\n",
       "      <td>63.6</td>\n",
       "      <td>7</td>\n",
       "      <td>9</td>\n",
       "      <td>3</td>\n",
       "      <td>40472.837963</td>\n",
       "      <td>330</td>\n",
       "      <td>35</td>\n",
       "    </tr>\n",
       "  </tbody>\n",
       "</table>\n",
       "</div>"
      ],
      "text/plain": [
       "       district  street  dom  rooms    m2  floor  max_floors  m2_range  \\\n",
       "6422          5      87    8      3  75.5      5           5         4   \n",
       "11869         2     102   14      1  35.0      5           5         1   \n",
       "18600         5     357   62      4  84.0      8          10         4   \n",
       "908           5      31    3      1  38.0      7           9         1   \n",
       "17309         4     127   16      3  63.6      7           9         3   \n",
       "\n",
       "       rub_by_district  count_by_district  count_by_street  \n",
       "6422      41496.410808                187                3  \n",
       "11869     49553.039306                251                6  \n",
       "18600     49101.286836                  9                1  \n",
       "908       52763.382062                219                8  \n",
       "17309     40472.837963                330               35  "
      ]
     },
     "execution_count": 362,
     "metadata": {},
     "output_type": "execute_result"
    }
   ],
   "source": [
    "x.head()"
   ]
  },
  {
   "cell_type": "code",
   "execution_count": 363,
   "metadata": {},
   "outputs": [],
   "source": [
    "import lightgbm as lgbm"
   ]
  },
  {
   "cell_type": "code",
   "execution_count": 25,
   "metadata": {},
   "outputs": [],
   "source": [
    "ts = lgbm.Dataset(data_mani,targ)"
   ]
  },
  {
   "cell_type": "code",
   "execution_count": 26,
   "metadata": {},
   "outputs": [],
   "source": [
    "par ={'n_estimators':5000,\n",
    "     \"objective\" : \"regression\",\n",
    "        \"metric\" : \"rmse\",\n",
    "     'verbose':200}"
   ]
  },
  {
   "cell_type": "code",
   "execution_count": 44,
   "metadata": {},
   "outputs": [],
   "source": [
    "lgb_cv = lgbm.cv(params=par,train_set=ts,nfold=3,stratified=False)"
   ]
  },
  {
   "cell_type": "code",
   "execution_count": 68,
   "metadata": {},
   "outputs": [
    {
     "data": {
      "text/html": [
       "<div>\n",
       "<style scoped>\n",
       "    .dataframe tbody tr th:only-of-type {\n",
       "        vertical-align: middle;\n",
       "    }\n",
       "\n",
       "    .dataframe tbody tr th {\n",
       "        vertical-align: top;\n",
       "    }\n",
       "\n",
       "    .dataframe thead th {\n",
       "        text-align: right;\n",
       "    }\n",
       "</style>\n",
       "<table border=\"1\" class=\"dataframe\">\n",
       "  <thead>\n",
       "    <tr style=\"text-align: right;\">\n",
       "      <th></th>\n",
       "      <th>rmse-mean</th>\n",
       "      <th>rmse-stdv</th>\n",
       "    </tr>\n",
       "  </thead>\n",
       "  <tbody>\n",
       "    <tr>\n",
       "      <th>4979</th>\n",
       "      <td>4.683431e+05</td>\n",
       "      <td>29691.119855</td>\n",
       "    </tr>\n",
       "    <tr>\n",
       "      <th>4999</th>\n",
       "      <td>4.683437e+05</td>\n",
       "      <td>29696.529040</td>\n",
       "    </tr>\n",
       "    <tr>\n",
       "      <th>4978</th>\n",
       "      <td>4.683440e+05</td>\n",
       "      <td>29690.399653</td>\n",
       "    </tr>\n",
       "    <tr>\n",
       "      <th>4980</th>\n",
       "      <td>4.683465e+05</td>\n",
       "      <td>29691.533769</td>\n",
       "    </tr>\n",
       "    <tr>\n",
       "      <th>4998</th>\n",
       "      <td>4.683470e+05</td>\n",
       "      <td>29689.164931</td>\n",
       "    </tr>\n",
       "    <tr>\n",
       "      <th>...</th>\n",
       "      <td>...</td>\n",
       "      <td>...</td>\n",
       "    </tr>\n",
       "    <tr>\n",
       "      <th>4</th>\n",
       "      <td>1.268410e+06</td>\n",
       "      <td>41731.738054</td>\n",
       "    </tr>\n",
       "    <tr>\n",
       "      <th>3</th>\n",
       "      <td>1.359366e+06</td>\n",
       "      <td>41367.382104</td>\n",
       "    </tr>\n",
       "    <tr>\n",
       "      <th>2</th>\n",
       "      <td>1.462046e+06</td>\n",
       "      <td>41309.539098</td>\n",
       "    </tr>\n",
       "    <tr>\n",
       "      <th>1</th>\n",
       "      <td>1.580828e+06</td>\n",
       "      <td>40422.995580</td>\n",
       "    </tr>\n",
       "    <tr>\n",
       "      <th>0</th>\n",
       "      <td>1.712003e+06</td>\n",
       "      <td>39341.266070</td>\n",
       "    </tr>\n",
       "  </tbody>\n",
       "</table>\n",
       "<p>5000 rows × 2 columns</p>\n",
       "</div>"
      ],
      "text/plain": [
       "         rmse-mean     rmse-stdv\n",
       "4979  4.683431e+05  29691.119855\n",
       "4999  4.683437e+05  29696.529040\n",
       "4978  4.683440e+05  29690.399653\n",
       "4980  4.683465e+05  29691.533769\n",
       "4998  4.683470e+05  29689.164931\n",
       "...            ...           ...\n",
       "4     1.268410e+06  41731.738054\n",
       "3     1.359366e+06  41367.382104\n",
       "2     1.462046e+06  41309.539098\n",
       "1     1.580828e+06  40422.995580\n",
       "0     1.712003e+06  39341.266070\n",
       "\n",
       "[5000 rows x 2 columns]"
      ]
     },
     "execution_count": 68,
     "metadata": {},
     "output_type": "execute_result"
    }
   ],
   "source": [
    "pd.DataFrame(lgb_cv).sort_values(by='rmse-mean')"
   ]
  },
  {
   "cell_type": "code",
   "execution_count": 47,
   "metadata": {},
   "outputs": [
    {
     "data": {
      "text/plain": [
       "468343.72109435877"
      ]
     },
     "execution_count": 47,
     "metadata": {},
     "output_type": "execute_result"
    }
   ],
   "source": [
    "lgb_cv['rmse-mean'][-1]"
   ]
  },
  {
   "cell_type": "code",
   "execution_count": 69,
   "metadata": {},
   "outputs": [
    {
     "data": {
      "text/plain": [
       "LGBMRegressor(n_estimators=5000)"
      ]
     },
     "execution_count": 69,
     "metadata": {},
     "output_type": "execute_result"
    }
   ],
   "source": [
    "lgb = lgbm.LGBMRegressor(n_estimators=5000)\n",
    "lgb.fit(data_mani,targ,verbose=200)"
   ]
  },
  {
   "cell_type": "code",
   "execution_count": 365,
   "metadata": {},
   "outputs": [],
   "source": [
    "def score_comp(booster,dic,values=None,predict=True):\n",
    "    for i in [metrics.r2_score,metrics.mean_absolute_error,metrics.max_error]:\n",
    "        if predict==True:\n",
    "            dic[booster.__class__.__name__].append(i(yv,booster.predict(xv)))\n",
    "        else:\n",
    "            dic[booster].append(i(yv,values))"
   ]
  },
  {
   "cell_type": "code",
   "execution_count": 366,
   "metadata": {},
   "outputs": [],
   "source": [
    "score = defaultdict(list)"
   ]
  },
  {
   "cell_type": "code",
   "execution_count": 367,
   "metadata": {},
   "outputs": [],
   "source": [
    "score_comp(lgb,score)"
   ]
  },
  {
   "cell_type": "code",
   "execution_count": 54,
   "metadata": {},
   "outputs": [],
   "source": [
    "from bayes_opt import BayesianOptimization"
   ]
  },
  {
   "cell_type": "code",
   "execution_count": 51,
   "metadata": {},
   "outputs": [],
   "source": [
    "X_train=data_mani # analysing data\n",
    "y_train=targ #analysing target\n",
    "categorical_features=[] #categorical features in set\n",
    "#num of parametrs must match in lgb_eval & optimisition\n",
    "def lgb_eval(num_leaves,max_depth,lambda_l2,lambda_l1,\n",
    "             min_child_samples,\n",
    "             mcw,\n",
    "             #min_data_in_leaf,\n",
    "             #n_estimators,\n",
    "             lr):\n",
    "    #parametrs for tuning\n",
    "    params = {\n",
    "        \"objective\" : \"regression\",\n",
    "        \"metric\" : \"rmse\", \n",
    "        #'device':'gpu'\n",
    "        'min_child_weight':mcw,\n",
    "        'is_unbalance': False,\n",
    "        \"num_leaves\" : int(num_leaves),\n",
    "        \"max_depth\" : int(max_depth),\n",
    "        \"lambda_l2\" : lambda_l2,\n",
    "        \"lambda_l1\" : lambda_l1,\n",
    "        \"min_child_samples\" : int(min_child_samples),\n",
    "       # 'min_data_in_leaf': int(min_data_in_leaf),\n",
    "        \"learning_rate\" : lr,\n",
    "        #'n_estimators':int(n_estimators)\n",
    "    }\n",
    "    lgtrain = lgbm.Dataset(X_train, y_train)\n",
    "    #testing feature, almost always some kind of cv\n",
    "    cv_result = lgbm.cv(params,\n",
    "                       lgtrain,\n",
    "                       5000,\n",
    "                       early_stopping_rounds=500,\n",
    "                       stratified=False,\n",
    "                       nfold=3)\n",
    "    return -cv_result['rmse-mean'][-1]"
   ]
  },
  {
   "cell_type": "code",
   "execution_count": 49,
   "metadata": {},
   "outputs": [
    {
     "data": {
      "text/plain": [
       "{'boosting_type': 'gbdt',\n",
       " 'class_weight': None,\n",
       " 'colsample_bytree': 1.0,\n",
       " 'importance_type': 'split',\n",
       " 'learning_rate': 0.1,\n",
       " 'max_depth': -1,\n",
       " 'min_child_samples': 20,\n",
       " 'min_child_weight': 0.001,\n",
       " 'min_split_gain': 0.0,\n",
       " 'n_estimators': 5000,\n",
       " 'n_jobs': -1,\n",
       " 'num_leaves': 31,\n",
       " 'objective': None,\n",
       " 'random_state': None,\n",
       " 'reg_alpha': 0.0,\n",
       " 'reg_lambda': 0.0,\n",
       " 'silent': True,\n",
       " 'subsample': 1.0,\n",
       " 'subsample_for_bin': 200000,\n",
       " 'subsample_freq': 0}"
      ]
     },
     "execution_count": 49,
     "metadata": {},
     "output_type": "execute_result"
    }
   ],
   "source": [
    "lgb.get_params()"
   ]
  },
  {
   "cell_type": "code",
   "execution_count": 55,
   "metadata": {},
   "outputs": [
    {
     "name": "stdout",
     "output_type": "stream",
     "text": [
      "|   iter    |  target   | lambda_l1 | lambda_l2 |    lr     | max_depth |    mcw    | min_ch... | num_le... |\n",
      "-------------------------------------------------------------------------------------------------------------\n",
      "| \u001b[0m 1       \u001b[0m | \u001b[0m-5.409e+0\u001b[0m | \u001b[0m 7.729   \u001b[0m | \u001b[0m 5.41    \u001b[0m | \u001b[0m 0.03034 \u001b[0m | \u001b[0m 14.21   \u001b[0m | \u001b[0m 0.06928 \u001b[0m | \u001b[0m 68.51   \u001b[0m | \u001b[0m 2.129e+0\u001b[0m |\n",
      "| \u001b[95m 2       \u001b[0m | \u001b[95m-4.686e+0\u001b[0m | \u001b[95m 2.435   \u001b[0m | \u001b[95m 2.588   \u001b[0m | \u001b[95m 0.07932 \u001b[0m | \u001b[95m 30.67   \u001b[0m | \u001b[95m 0.009091\u001b[0m | \u001b[95m 24.33   \u001b[0m | \u001b[95m 2.317e+0\u001b[0m |\n",
      "| \u001b[0m 3       \u001b[0m | \u001b[0m-6.368e+0\u001b[0m | \u001b[0m 8.587   \u001b[0m | \u001b[0m 4.273   \u001b[0m | \u001b[0m 0.01085 \u001b[0m | \u001b[0m 40.59   \u001b[0m | \u001b[0m 0.02486 \u001b[0m | \u001b[0m 99.48   \u001b[0m | \u001b[0m 1.684e+0\u001b[0m |\n",
      "| \u001b[0m 4       \u001b[0m | \u001b[0m-5.196e+0\u001b[0m | \u001b[0m 3.044   \u001b[0m | \u001b[0m 9.889   \u001b[0m | \u001b[0m 0.1966  \u001b[0m | \u001b[0m 44.58   \u001b[0m | \u001b[0m 0.03551 \u001b[0m | \u001b[0m 57.03   \u001b[0m | \u001b[0m 3.804e+0\u001b[0m |\n",
      "| \u001b[0m 5       \u001b[0m | \u001b[0m-5.268e+0\u001b[0m | \u001b[0m 7.908   \u001b[0m | \u001b[0m 2.497   \u001b[0m | \u001b[0m 0.2543  \u001b[0m | \u001b[0m 10.24   \u001b[0m | \u001b[0m 0.06781 \u001b[0m | \u001b[0m 93.97   \u001b[0m | \u001b[0m 2.318e+0\u001b[0m |\n",
      "| \u001b[0m 6       \u001b[0m | \u001b[0m-4.82e+05\u001b[0m | \u001b[0m 7.414   \u001b[0m | \u001b[0m 0.298   \u001b[0m | \u001b[0m 0.128   \u001b[0m | \u001b[0m 37.79   \u001b[0m | \u001b[0m 0.01781 \u001b[0m | \u001b[0m 10.11   \u001b[0m | \u001b[0m 2.271e+0\u001b[0m |\n",
      "| \u001b[0m 7       \u001b[0m | \u001b[0m-4.801e+0\u001b[0m | \u001b[0m 7.355   \u001b[0m | \u001b[0m 3.631   \u001b[0m | \u001b[0m 0.2297  \u001b[0m | \u001b[0m 43.18   \u001b[0m | \u001b[0m 0.05175 \u001b[0m | \u001b[0m 18.89   \u001b[0m | \u001b[0m 2.969e+0\u001b[0m |\n",
      "| \u001b[0m 8       \u001b[0m | \u001b[0m-5.392e+0\u001b[0m | \u001b[0m 0.2116  \u001b[0m | \u001b[0m 1.577   \u001b[0m | \u001b[0m 0.09083 \u001b[0m | \u001b[0m 35.29   \u001b[0m | \u001b[0m 0.06552 \u001b[0m | \u001b[0m 89.76   \u001b[0m | \u001b[0m 1.692e+0\u001b[0m |\n",
      "| \u001b[0m 9       \u001b[0m | \u001b[0m-4.779e+0\u001b[0m | \u001b[0m 3.509   \u001b[0m | \u001b[0m 9.757   \u001b[0m | \u001b[0m 0.05425 \u001b[0m | \u001b[0m 61.15   \u001b[0m | \u001b[0m 0.06965 \u001b[0m | \u001b[0m 14.61   \u001b[0m | \u001b[0m 2.364e+0\u001b[0m |\n",
      "| \u001b[0m 10      \u001b[0m | \u001b[0m-4.705e+0\u001b[0m | \u001b[0m 3.353   \u001b[0m | \u001b[0m 5.938   \u001b[0m | \u001b[0m 0.1334  \u001b[0m | \u001b[0m 16.32   \u001b[0m | \u001b[0m 0.02192 \u001b[0m | \u001b[0m 34.46   \u001b[0m | \u001b[0m 3.544e+0\u001b[0m |\n",
      "| \u001b[0m 11      \u001b[0m | \u001b[0m-5.384e+0\u001b[0m | \u001b[0m 1.024   \u001b[0m | \u001b[0m 9.035   \u001b[0m | \u001b[0m 0.1444  \u001b[0m | \u001b[0m 30.49   \u001b[0m | \u001b[0m 0.0567  \u001b[0m | \u001b[0m 95.77   \u001b[0m | \u001b[0m 546.7   \u001b[0m |\n",
      "| \u001b[0m 12      \u001b[0m | \u001b[0m-4.72e+05\u001b[0m | \u001b[0m 5.792   \u001b[0m | \u001b[0m 9.916   \u001b[0m | \u001b[0m 0.1986  \u001b[0m | \u001b[0m 7.919   \u001b[0m | \u001b[0m 0.077   \u001b[0m | \u001b[0m 6.823   \u001b[0m | \u001b[0m 379.1   \u001b[0m |\n",
      "| \u001b[0m 13      \u001b[0m | \u001b[0m-4.989e+0\u001b[0m | \u001b[0m 3.493   \u001b[0m | \u001b[0m 9.71    \u001b[0m | \u001b[0m 0.1216  \u001b[0m | \u001b[0m 7.7     \u001b[0m | \u001b[0m 0.02165 \u001b[0m | \u001b[0m 52.73   \u001b[0m | \u001b[0m 3.827e+0\u001b[0m |\n",
      "| \u001b[0m 14      \u001b[0m | \u001b[0m-5.359e+0\u001b[0m | \u001b[0m 5.195   \u001b[0m | \u001b[0m 7.126   \u001b[0m | \u001b[0m 0.1259  \u001b[0m | \u001b[0m 29.65   \u001b[0m | \u001b[0m 0.0461  \u001b[0m | \u001b[0m 94.84   \u001b[0m | \u001b[0m 1.007e+0\u001b[0m |\n",
      "| \u001b[0m 15      \u001b[0m | \u001b[0m-4.836e+0\u001b[0m | \u001b[0m 9.978   \u001b[0m | \u001b[0m 6.431   \u001b[0m | \u001b[0m 0.2124  \u001b[0m | \u001b[0m 27.12   \u001b[0m | \u001b[0m 0.06347 \u001b[0m | \u001b[0m 9.006   \u001b[0m | \u001b[0m 3.41e+03\u001b[0m |\n",
      "| \u001b[0m 16      \u001b[0m | \u001b[0m-5.219e+0\u001b[0m | \u001b[0m 1.142   \u001b[0m | \u001b[0m 7.958   \u001b[0m | \u001b[0m 0.2596  \u001b[0m | \u001b[0m 13.52   \u001b[0m | \u001b[0m 0.07387 \u001b[0m | \u001b[0m 74.74   \u001b[0m | \u001b[0m 2.488e+0\u001b[0m |\n",
      "| \u001b[0m 17      \u001b[0m | \u001b[0m-4.843e+0\u001b[0m | \u001b[0m 2.8     \u001b[0m | \u001b[0m 9.244   \u001b[0m | \u001b[0m 0.07171 \u001b[0m | \u001b[0m 20.39   \u001b[0m | \u001b[0m 0.07049 \u001b[0m | \u001b[0m 45.02   \u001b[0m | \u001b[0m 2.452e+0\u001b[0m |\n",
      "| \u001b[0m 18      \u001b[0m | \u001b[0m-4.757e+0\u001b[0m | \u001b[0m 0.9284  \u001b[0m | \u001b[0m 7.871   \u001b[0m | \u001b[0m 0.1976  \u001b[0m | \u001b[0m 29.9    \u001b[0m | \u001b[0m 0.0465  \u001b[0m | \u001b[0m 30.12   \u001b[0m | \u001b[0m 1.497e+0\u001b[0m |\n",
      "| \u001b[0m 19      \u001b[0m | \u001b[0m-4.758e+0\u001b[0m | \u001b[0m 1.158   \u001b[0m | \u001b[0m 5.069   \u001b[0m | \u001b[0m 0.08052 \u001b[0m | \u001b[0m 20.51   \u001b[0m | \u001b[0m 0.05495 \u001b[0m | \u001b[0m 30.53   \u001b[0m | \u001b[0m 2.376e+0\u001b[0m |\n",
      "| \u001b[0m 20      \u001b[0m | \u001b[0m-4.704e+0\u001b[0m | \u001b[0m 3.409   \u001b[0m | \u001b[0m 7.201   \u001b[0m | \u001b[0m 0.08443 \u001b[0m | \u001b[0m 0.4008  \u001b[0m | \u001b[0m 0.09304 \u001b[0m | \u001b[0m 7.38    \u001b[0m | \u001b[0m 3.24e+03\u001b[0m |\n",
      "| \u001b[0m 21      \u001b[0m | \u001b[0m-4.714e+0\u001b[0m | \u001b[0m 9.388   \u001b[0m | \u001b[0m 5.739   \u001b[0m | \u001b[0m 0.2854  \u001b[0m | \u001b[0m 26.48   \u001b[0m | \u001b[0m 0.01494 \u001b[0m | \u001b[0m 24.91   \u001b[0m | \u001b[0m 795.6   \u001b[0m |\n",
      "| \u001b[0m 22      \u001b[0m | \u001b[0m-5.316e+0\u001b[0m | \u001b[0m 8.796   \u001b[0m | \u001b[0m 2.394   \u001b[0m | \u001b[0m 0.1825  \u001b[0m | \u001b[0m 9.859   \u001b[0m | \u001b[0m 0.08349 \u001b[0m | \u001b[0m 95.56   \u001b[0m | \u001b[0m 709.3   \u001b[0m |\n",
      "| \u001b[0m 23      \u001b[0m | \u001b[0m-4.762e+0\u001b[0m | \u001b[0m 7.528   \u001b[0m | \u001b[0m 5.045   \u001b[0m | \u001b[0m 0.1575  \u001b[0m | \u001b[0m 52.98   \u001b[0m | \u001b[0m 0.06874 \u001b[0m | \u001b[0m 35.2    \u001b[0m | \u001b[0m 3.064e+0\u001b[0m |\n",
      "| \u001b[0m 24      \u001b[0m | \u001b[0m-4.834e+0\u001b[0m | \u001b[0m 6.017   \u001b[0m | \u001b[0m 3.764   \u001b[0m | \u001b[0m 0.149   \u001b[0m | \u001b[0m 45.55   \u001b[0m | \u001b[0m 0.002015\u001b[0m | \u001b[0m 5.44    \u001b[0m | \u001b[0m 912.7   \u001b[0m |\n",
      "| \u001b[0m 25      \u001b[0m | \u001b[0m-5.737e+0\u001b[0m | \u001b[0m 8.859   \u001b[0m | \u001b[0m 0.6868  \u001b[0m | \u001b[0m 0.04813 \u001b[0m | \u001b[0m 10.86   \u001b[0m | \u001b[0m 0.08941 \u001b[0m | \u001b[0m 98.47   \u001b[0m | \u001b[0m 2.012e+0\u001b[0m |\n",
      "| \u001b[0m 26      \u001b[0m | \u001b[0m-4.785e+0\u001b[0m | \u001b[0m 9.507   \u001b[0m | \u001b[0m 5.111   \u001b[0m | \u001b[0m 0.08931 \u001b[0m | \u001b[0m 27.31   \u001b[0m | \u001b[0m 0.09656 \u001b[0m | \u001b[0m 18.95   \u001b[0m | \u001b[0m 796.5   \u001b[0m |\n",
      "| \u001b[0m 27      \u001b[0m | \u001b[0m-4.731e+0\u001b[0m | \u001b[0m 6.025   \u001b[0m | \u001b[0m 9.918   \u001b[0m | \u001b[0m 0.09835 \u001b[0m | \u001b[0m 31.07   \u001b[0m | \u001b[0m 0.08829 \u001b[0m | \u001b[0m 25.98   \u001b[0m | \u001b[0m 2.299e+0\u001b[0m |\n",
      "| \u001b[0m 28      \u001b[0m | \u001b[0m-4.846e+0\u001b[0m | \u001b[0m 1.624   \u001b[0m | \u001b[0m 0.0     \u001b[0m | \u001b[0m 0.09824 \u001b[0m | \u001b[0m 36.52   \u001b[0m | \u001b[0m 0.0001  \u001b[0m | \u001b[0m 9.819   \u001b[0m | \u001b[0m 2.303e+0\u001b[0m |\n",
      "| \u001b[0m 29      \u001b[0m | \u001b[0m-4.736e+0\u001b[0m | \u001b[0m 1.149   \u001b[0m | \u001b[0m 7.176   \u001b[0m | \u001b[0m 0.2529  \u001b[0m | \u001b[0m 46.29   \u001b[0m | \u001b[0m 0.03568 \u001b[0m | \u001b[0m 37.85   \u001b[0m | \u001b[0m 2.311e+0\u001b[0m |\n",
      "| \u001b[0m 30      \u001b[0m | \u001b[0m-4.789e+0\u001b[0m | \u001b[0m 8.41    \u001b[0m | \u001b[0m 7.404   \u001b[0m | \u001b[0m 0.2388  \u001b[0m | \u001b[0m 41.77   \u001b[0m | \u001b[0m 0.05623 \u001b[0m | \u001b[0m 18.15   \u001b[0m | \u001b[0m 2.342e+0\u001b[0m |\n",
      "| \u001b[0m 31      \u001b[0m | \u001b[0m-4.9e+05 \u001b[0m | \u001b[0m 4.406   \u001b[0m | \u001b[0m 2.917   \u001b[0m | \u001b[0m 0.1844  \u001b[0m | \u001b[0m 42.49   \u001b[0m | \u001b[0m 0.02413 \u001b[0m | \u001b[0m 41.1    \u001b[0m | \u001b[0m 2.358e+0\u001b[0m |\n",
      "| \u001b[0m 32      \u001b[0m | \u001b[0m-4.782e+0\u001b[0m | \u001b[0m 3.135   \u001b[0m | \u001b[0m 2.348   \u001b[0m | \u001b[0m 0.1392  \u001b[0m | \u001b[0m 17.15   \u001b[0m | \u001b[0m 0.02232 \u001b[0m | \u001b[0m 31.3    \u001b[0m | \u001b[0m 2.343e+0\u001b[0m |\n",
      "| \u001b[0m 33      \u001b[0m | \u001b[0m-4.911e+0\u001b[0m | \u001b[0m 9.006   \u001b[0m | \u001b[0m 8.534   \u001b[0m | \u001b[0m 0.2595  \u001b[0m | \u001b[0m 12.52   \u001b[0m | \u001b[0m 0.01936 \u001b[0m | \u001b[0m 44.94   \u001b[0m | \u001b[0m 2.312e+0\u001b[0m |\n",
      "| \u001b[0m 34      \u001b[0m | \u001b[0m-4.839e+0\u001b[0m | \u001b[0m 1.931   \u001b[0m | \u001b[0m 1.759   \u001b[0m | \u001b[0m 0.207   \u001b[0m | \u001b[0m 29.68   \u001b[0m | \u001b[0m 0.01429 \u001b[0m | \u001b[0m 10.46   \u001b[0m | \u001b[0m 2.364e+0\u001b[0m |\n",
      "| \u001b[0m 35      \u001b[0m | \u001b[0m-4.844e+0\u001b[0m | \u001b[0m 5.152   \u001b[0m | \u001b[0m 7.988   \u001b[0m | \u001b[0m 0.1489  \u001b[0m | \u001b[0m 19.81   \u001b[0m | \u001b[0m 0.03834 \u001b[0m | \u001b[0m 44.58   \u001b[0m | \u001b[0m 810.6   \u001b[0m |\n",
      "| \u001b[0m 36      \u001b[0m | \u001b[0m-4.83e+05\u001b[0m | \u001b[0m 3.571   \u001b[0m | \u001b[0m 5.317   \u001b[0m | \u001b[0m 0.1389  \u001b[0m | \u001b[0m 17.06   \u001b[0m | \u001b[0m 0.06301 \u001b[0m | \u001b[0m 44.91   \u001b[0m | \u001b[0m 774.4   \u001b[0m |\n",
      "| \u001b[0m 37      \u001b[0m | \u001b[0m-4.979e+0\u001b[0m | \u001b[0m 8.594   \u001b[0m | \u001b[0m 0.4364  \u001b[0m | \u001b[0m 0.2671  \u001b[0m | \u001b[0m 43.8    \u001b[0m | \u001b[0m 0.09981 \u001b[0m | \u001b[0m 43.9    \u001b[0m | \u001b[0m 782.9   \u001b[0m |\n",
      "| \u001b[0m 38      \u001b[0m | \u001b[0m-4.798e+0\u001b[0m | \u001b[0m 1.896   \u001b[0m | \u001b[0m 4.968   \u001b[0m | \u001b[0m 0.2687  \u001b[0m | \u001b[0m 0.4884  \u001b[0m | \u001b[0m 0.01791 \u001b[0m | \u001b[0m 28.87   \u001b[0m | \u001b[0m 793.0   \u001b[0m |\n",
      "| \u001b[95m 39      \u001b[0m | \u001b[95m-4.667e+0\u001b[0m | \u001b[95m 3.18    \u001b[0m | \u001b[95m 6.092   \u001b[0m | \u001b[95m 0.07996 \u001b[0m | \u001b[95m 13.06   \u001b[0m | \u001b[95m 0.07577 \u001b[0m | \u001b[95m 28.06   \u001b[0m | \u001b[95m 3.225e+0\u001b[0m |\n",
      "| \u001b[0m 40      \u001b[0m | \u001b[0m-4.824e+0\u001b[0m | \u001b[0m 9.976   \u001b[0m | \u001b[0m 10.0    \u001b[0m | \u001b[0m 0.06316 \u001b[0m | \u001b[0m 8.227   \u001b[0m | \u001b[0m 0.07424 \u001b[0m | \u001b[0m 5.0     \u001b[0m | \u001b[0m 3.212e+0\u001b[0m |\n",
      "| \u001b[0m 41      \u001b[0m | \u001b[0m-5.098e+0\u001b[0m | \u001b[0m 2.395   \u001b[0m | \u001b[0m 8.195   \u001b[0m | \u001b[0m 0.1367  \u001b[0m | \u001b[0m 3.21    \u001b[0m | \u001b[0m 0.06962 \u001b[0m | \u001b[0m 36.88   \u001b[0m | \u001b[0m 3.252e+0\u001b[0m |\n",
      "| \u001b[0m 42      \u001b[0m | \u001b[0m-4.799e+0\u001b[0m | \u001b[0m 1.027   \u001b[0m | \u001b[0m 9.0     \u001b[0m | \u001b[0m 0.1125  \u001b[0m | \u001b[0m 27.18   \u001b[0m | \u001b[0m 0.005045\u001b[0m | \u001b[0m 5.84    \u001b[0m | \u001b[0m 3.232e+0\u001b[0m |\n",
      "| \u001b[0m 43      \u001b[0m | \u001b[0m-4.832e+0\u001b[0m | \u001b[0m 1.604   \u001b[0m | \u001b[0m 0.9791  \u001b[0m | \u001b[0m 0.2567  \u001b[0m | \u001b[0m 42.55   \u001b[0m | \u001b[0m 0.03861 \u001b[0m | \u001b[0m 31.7    \u001b[0m | \u001b[0m 3.214e+0\u001b[0m |\n",
      "| \u001b[0m 44      \u001b[0m | \u001b[0m-4.814e+0\u001b[0m | \u001b[0m 8.088   \u001b[0m | \u001b[0m 2.883   \u001b[0m | \u001b[0m 0.1982  \u001b[0m | \u001b[0m-0.4801  \u001b[0m | \u001b[0m 0.04525 \u001b[0m | \u001b[0m 39.21   \u001b[0m | \u001b[0m 3.202e+0\u001b[0m |\n",
      "| \u001b[0m 45      \u001b[0m | \u001b[0m-4.746e+0\u001b[0m | \u001b[0m 4.701   \u001b[0m | \u001b[0m 6.114   \u001b[0m | \u001b[0m 0.0164  \u001b[0m | \u001b[0m 18.07   \u001b[0m | \u001b[0m 0.000572\u001b[0m | \u001b[0m 28.81   \u001b[0m | \u001b[0m 3.515e+0\u001b[0m |\n",
      "| \u001b[0m 46      \u001b[0m | \u001b[0m-5.239e+0\u001b[0m | \u001b[0m 7.228   \u001b[0m | \u001b[0m 3.233   \u001b[0m | \u001b[0m 0.06747 \u001b[0m | \u001b[0m-0.278   \u001b[0m | \u001b[0m 0.03797 \u001b[0m | \u001b[0m 53.49   \u001b[0m | \u001b[0m 3.526e+0\u001b[0m |\n",
      "| \u001b[0m 47      \u001b[0m | \u001b[0m-4.671e+0\u001b[0m | \u001b[0m 1.132   \u001b[0m | \u001b[0m 8.366   \u001b[0m | \u001b[0m 0.09846 \u001b[0m | \u001b[0m 31.74   \u001b[0m | \u001b[0m 0.0001  \u001b[0m | \u001b[0m 13.91   \u001b[0m | \u001b[0m 3.536e+0\u001b[0m |\n",
      "| \u001b[0m 48      \u001b[0m | \u001b[0m-4.747e+0\u001b[0m | \u001b[0m 5.173   \u001b[0m | \u001b[0m 2.358   \u001b[0m | \u001b[0m 0.1762  \u001b[0m | \u001b[0m 46.78   \u001b[0m | \u001b[0m 0.01117 \u001b[0m | \u001b[0m 36.94   \u001b[0m | \u001b[0m 3.548e+0\u001b[0m |\n",
      "| \u001b[0m 49      \u001b[0m | \u001b[0m-4.871e+0\u001b[0m | \u001b[0m 10.0    \u001b[0m | \u001b[0m 0.0     \u001b[0m | \u001b[0m 0.3     \u001b[0m | \u001b[0m 25.52   \u001b[0m | \u001b[0m 0.1     \u001b[0m | \u001b[0m 15.29   \u001b[0m | \u001b[0m 3.563e+0\u001b[0m |\n",
      "| \u001b[0m 50      \u001b[0m | \u001b[0m-4.784e+0\u001b[0m | \u001b[0m 0.7417  \u001b[0m | \u001b[0m 4.981   \u001b[0m | \u001b[0m 0.2807  \u001b[0m | \u001b[0m 51.43   \u001b[0m | \u001b[0m 0.04039 \u001b[0m | \u001b[0m 24.1    \u001b[0m | \u001b[0m 3.506e+0\u001b[0m |\n",
      "=============================================================================================================\n"
     ]
    }
   ],
   "source": [
    "lgbBO = BayesianOptimization(lgb_eval, {'num_leaves': (1, 4000),\n",
    "                                                'max_depth': (-1, 63),\n",
    "                                                'lambda_l2': (0.0, 10),\n",
    "                                                'lambda_l1': (0.0, 10),\n",
    "                                                'min_child_samples': (5, 100),\n",
    "                                        'mcw':(0.0001,0.1),\n",
    "                                                'lr':(0.0001,0.3)\n",
    "                                                })\n",
    "\n",
    "lgbBO.maximize(n_iter=25, init_points=25)"
   ]
  },
  {
   "cell_type": "code",
   "execution_count": 56,
   "metadata": {},
   "outputs": [
    {
     "data": {
      "text/plain": [
       "{'target': -466670.561515491,\n",
       " 'params': {'lambda_l1': 3.1804673864798247,\n",
       "  'lambda_l2': 6.091610716923955,\n",
       "  'lr': 0.07996116870294002,\n",
       "  'max_depth': 13.05529319859183,\n",
       "  'mcw': 0.07576510019081709,\n",
       "  'min_child_samples': 28.064906605116043,\n",
       "  'num_leaves': 3225.1942194239496}}"
      ]
     },
     "execution_count": 56,
     "metadata": {},
     "output_type": "execute_result"
    }
   ],
   "source": [
    "lgbBO.max"
   ]
  },
  {
   "cell_type": "code",
   "execution_count": 57,
   "metadata": {},
   "outputs": [
    {
     "data": {
      "text/plain": [
       "{'lambda_l1': 3.1804673864798247,\n",
       " 'lambda_l2': 6.091610716923955,\n",
       " 'lr': 0.07996116870294002,\n",
       " 'max_depth': 13.05529319859183,\n",
       " 'mcw': 0.07576510019081709,\n",
       " 'min_child_samples': 28.064906605116043,\n",
       " 'num_leaves': 3225.1942194239496}"
      ]
     },
     "execution_count": 57,
     "metadata": {},
     "output_type": "execute_result"
    }
   ],
   "source": [
    "lgbBO.max['params']"
   ]
  },
  {
   "cell_type": "code",
   "execution_count": null,
   "metadata": {},
   "outputs": [],
   "source": []
  },
  {
   "cell_type": "code",
   "execution_count": null,
   "metadata": {},
   "outputs": [],
   "source": []
  },
  {
   "cell_type": "code",
   "execution_count": null,
   "metadata": {},
   "outputs": [],
   "source": []
  },
  {
   "cell_type": "code",
   "execution_count": 368,
   "metadata": {},
   "outputs": [
    {
     "data": {
      "text/html": [
       "<div>\n",
       "<style scoped>\n",
       "    .dataframe tbody tr th:only-of-type {\n",
       "        vertical-align: middle;\n",
       "    }\n",
       "\n",
       "    .dataframe tbody tr th {\n",
       "        vertical-align: top;\n",
       "    }\n",
       "\n",
       "    .dataframe thead th {\n",
       "        text-align: right;\n",
       "    }\n",
       "</style>\n",
       "<table border=\"1\" class=\"dataframe\">\n",
       "  <thead>\n",
       "    <tr style=\"text-align: right;\">\n",
       "      <th></th>\n",
       "      <th>LGBMRegressor</th>\n",
       "    </tr>\n",
       "  </thead>\n",
       "  <tbody>\n",
       "    <tr>\n",
       "      <th>0</th>\n",
       "      <td>9.225475e-01</td>\n",
       "    </tr>\n",
       "    <tr>\n",
       "      <th>1</th>\n",
       "      <td>2.401821e+05</td>\n",
       "    </tr>\n",
       "    <tr>\n",
       "      <th>2</th>\n",
       "      <td>1.026308e+07</td>\n",
       "    </tr>\n",
       "  </tbody>\n",
       "</table>\n",
       "</div>"
      ],
      "text/plain": [
       "   LGBMRegressor\n",
       "0   9.225475e-01\n",
       "1   2.401821e+05\n",
       "2   1.026308e+07"
      ]
     },
     "execution_count": 368,
     "metadata": {},
     "output_type": "execute_result"
    }
   ],
   "source": []
  },
  {
   "cell_type": "code",
   "execution_count": 370,
   "metadata": {},
   "outputs": [],
   "source": [
    "cat = ctb.CatBoostRegressor(iterations = 5000, verbose=200,\n",
    "                                early_stopping_rounds=500,\n",
    "                               cat_features=[0,1,2,3,5,6,7]\n",
    "                           )"
   ]
  },
  {
   "cell_type": "code",
   "execution_count": 371,
   "metadata": {},
   "outputs": [
    {
     "name": "stdout",
     "output_type": "stream",
     "text": [
      "Learning rate set to 0.028345\n",
      "0:\tlearn: 1841334.7932865\ttest: 1757146.3986411\tbest: 1757146.3986411 (0)\ttotal: 8.68ms\tremaining: 43.4s\n",
      "200:\tlearn: 614991.6082870\ttest: 630575.6447906\tbest: 630575.6447906 (200)\ttotal: 1.08s\tremaining: 25.7s\n",
      "400:\tlearn: 546190.0927937\ttest: 592371.9831854\tbest: 592371.9831854 (400)\ttotal: 2.38s\tremaining: 27.3s\n",
      "600:\tlearn: 503272.2239657\ttest: 573884.5581434\tbest: 573884.5581434 (600)\ttotal: 3.52s\tremaining: 25.8s\n",
      "800:\tlearn: 468504.1794594\ttest: 549896.3809385\tbest: 549893.1403751 (799)\ttotal: 4.65s\tremaining: 24.4s\n",
      "1000:\tlearn: 443751.2284357\ttest: 532539.9407613\tbest: 532539.9407613 (1000)\ttotal: 5.81s\tremaining: 23.2s\n",
      "1200:\tlearn: 424675.2955527\ttest: 521939.7969263\tbest: 521939.7969263 (1200)\ttotal: 6.98s\tremaining: 22.1s\n",
      "1400:\tlearn: 409099.7040994\ttest: 513630.0915744\tbest: 513630.0915744 (1400)\ttotal: 8.16s\tremaining: 21s\n",
      "1600:\tlearn: 394537.7644344\ttest: 505444.1635427\tbest: 505444.1635427 (1600)\ttotal: 9.34s\tremaining: 19.8s\n",
      "1800:\tlearn: 382586.8777998\ttest: 499112.6339351\tbest: 499112.6339351 (1800)\ttotal: 11s\tremaining: 19.6s\n",
      "2000:\tlearn: 371762.1829094\ttest: 494440.3469117\tbest: 494440.3469117 (2000)\ttotal: 12.2s\tremaining: 18.4s\n",
      "2200:\tlearn: 361788.7773126\ttest: 490355.0054065\tbest: 490355.0054065 (2200)\ttotal: 13.5s\tremaining: 17.2s\n",
      "2400:\tlearn: 352958.8393090\ttest: 486643.6980996\tbest: 486522.5003591 (2399)\ttotal: 14.7s\tremaining: 15.9s\n",
      "2600:\tlearn: 344434.8939002\ttest: 483053.9375909\tbest: 483053.9375909 (2600)\ttotal: 15.9s\tremaining: 14.7s\n",
      "2800:\tlearn: 336982.5925486\ttest: 480172.3258094\tbest: 480167.7970471 (2799)\ttotal: 17.1s\tremaining: 13.5s\n",
      "3000:\tlearn: 330175.8940521\ttest: 477789.2459506\tbest: 477748.9366375 (2996)\ttotal: 18.4s\tremaining: 12.2s\n",
      "3200:\tlearn: 323397.2513471\ttest: 475057.0109690\tbest: 475057.0109690 (3200)\ttotal: 19.6s\tremaining: 11s\n",
      "3400:\tlearn: 317434.1966668\ttest: 473297.4281761\tbest: 473287.5071957 (3391)\ttotal: 21s\tremaining: 9.89s\n",
      "3600:\tlearn: 311013.7109864\ttest: 470981.4023424\tbest: 470981.4023424 (3600)\ttotal: 22.6s\tremaining: 8.76s\n",
      "3800:\tlearn: 304966.3671711\ttest: 469477.4505282\tbest: 469477.4505282 (3800)\ttotal: 24.1s\tremaining: 7.59s\n",
      "4000:\tlearn: 299693.7117777\ttest: 467246.9990392\tbest: 467246.9990392 (4000)\ttotal: 25.6s\tremaining: 6.38s\n",
      "4200:\tlearn: 294582.2586247\ttest: 465544.3627447\tbest: 465527.8805479 (4197)\ttotal: 27.1s\tremaining: 5.15s\n",
      "4400:\tlearn: 289504.9912058\ttest: 463810.5307102\tbest: 463810.5307102 (4400)\ttotal: 28.6s\tremaining: 3.9s\n",
      "4600:\tlearn: 284754.2687003\ttest: 462175.3352993\tbest: 462132.6139562 (4598)\ttotal: 30.1s\tremaining: 2.61s\n",
      "4800:\tlearn: 280472.2913930\ttest: 460893.0744898\tbest: 460893.0744898 (4800)\ttotal: 31.6s\tremaining: 1.31s\n",
      "4999:\tlearn: 276492.6771467\ttest: 459516.6967901\tbest: 459516.6967901 (4999)\ttotal: 33.1s\tremaining: 0us\n",
      "\n",
      "bestTest = 459516.6968\n",
      "bestIteration = 4999\n",
      "\n"
     ]
    },
    {
     "data": {
      "text/plain": [
       "<catboost.core.CatBoostRegressor at 0x7f8f1bf89970>"
      ]
     },
     "execution_count": 371,
     "metadata": {},
     "output_type": "execute_result"
    }
   ],
   "source": [
    "cat.fit(x,y,eval_set=(xv,yv))"
   ]
  },
  {
   "cell_type": "code",
   "execution_count": 372,
   "metadata": {},
   "outputs": [],
   "source": [
    "score_comp(cat,score)"
   ]
  },
  {
   "cell_type": "code",
   "execution_count": 373,
   "metadata": {},
   "outputs": [
    {
     "data": {
      "text/html": [
       "<style  type=\"text/css\" >\n",
       "</style><table id=\"T_c5d3d9a4_b7df_11ea_9e21_207918a9cd1f\" ><thead>    <tr>        <th class=\"blank level0\" ></th>        <th class=\"col_heading level0 col0\" >LGBMRegressor</th>        <th class=\"col_heading level0 col1\" >CatBoostRegressor</th>    </tr></thead><tbody>\n",
       "                <tr>\n",
       "                        <th id=\"T_c5d3d9a4_b7df_11ea_9e21_207918a9cd1flevel0_row0\" class=\"row_heading level0 row0\" >0</th>\n",
       "                        <td id=\"T_c5d3d9a4_b7df_11ea_9e21_207918a9cd1frow0_col0\" class=\"data row0 col0\" >0.922548</td>\n",
       "                        <td id=\"T_c5d3d9a4_b7df_11ea_9e21_207918a9cd1frow0_col1\" class=\"data row0 col1\" >0.934328</td>\n",
       "            </tr>\n",
       "            <tr>\n",
       "                        <th id=\"T_c5d3d9a4_b7df_11ea_9e21_207918a9cd1flevel0_row1\" class=\"row_heading level0 row1\" >1</th>\n",
       "                        <td id=\"T_c5d3d9a4_b7df_11ea_9e21_207918a9cd1frow1_col0\" class=\"data row1 col0\" >240182.129898</td>\n",
       "                        <td id=\"T_c5d3d9a4_b7df_11ea_9e21_207918a9cd1frow1_col1\" class=\"data row1 col1\" >262395.292703</td>\n",
       "            </tr>\n",
       "            <tr>\n",
       "                        <th id=\"T_c5d3d9a4_b7df_11ea_9e21_207918a9cd1flevel0_row2\" class=\"row_heading level0 row2\" >2</th>\n",
       "                        <td id=\"T_c5d3d9a4_b7df_11ea_9e21_207918a9cd1frow2_col0\" class=\"data row2 col0\" >10263080.952621</td>\n",
       "                        <td id=\"T_c5d3d9a4_b7df_11ea_9e21_207918a9cd1frow2_col1\" class=\"data row2 col1\" >8162791.630150</td>\n",
       "            </tr>\n",
       "    </tbody></table>"
      ],
      "text/plain": [
       "<pandas.io.formats.style.Styler at 0x7f8f02b7eaf0>"
      ]
     },
     "execution_count": 373,
     "metadata": {},
     "output_type": "execute_result"
    }
   ],
   "source": [
    "pd.DataFrame(score).style"
   ]
  },
  {
   "cell_type": "code",
   "execution_count": null,
   "metadata": {},
   "outputs": [],
   "source": []
  },
  {
   "cell_type": "code",
   "execution_count": null,
   "metadata": {},
   "outputs": [],
   "source": []
  },
  {
   "cell_type": "code",
   "execution_count": 63,
   "metadata": {},
   "outputs": [],
   "source": [
    "def predict_price(data=None,log1p=False):\n",
    "    if data!= None:\n",
    "        d=data\n",
    "        d['m2_range']=df['m2_range'].unique()[[(d['m2'] in i ) for i in df['m2_range'].unique()]][0]\n",
    "    else:\n",
    "        d = collections.defaultdict(list)\n",
    "        for info in cat.feature_names_[:-4]:\n",
    "            print( f'Input {info}, example :{df[info].unique()[:3]}')\n",
    "            d[info] = input()\n",
    "        d['max_floors']=int(d['max_floors'])\n",
    "        d['m2']=int(d['m2'])\n",
    "        d['m2_range']=df['m2_range'].unique()[[(d['m2'] in i ) for i in df['m2_range'].unique()]][0]\n",
    "    #d['clean'] = d['street'] + ','+str(d['dom'])\n",
    "    d['street'] = df[df.street.str.contains(d['street'])].street.mode()[0]\n",
    "    home_df = pd.DataFrame(d,index=[0])\n",
    "    for i in [gb_distr_rubm2,gb_distr_count,gb_street_count]:\n",
    "        home_df = home_df.merge(i, how='left',on=i.columns[:-1].to_list())\n",
    "    try:\n",
    "        cat_df=home_df.apply(lambda x: d_[x.name].transform(x) if x.name in list(d_.keys()) else x)\n",
    "    except:\n",
    "        try:\n",
    "            street = df[df.street.str.contains(d['street'])].street.mode()[0]\n",
    "            idx_nearest=df.query('street==@street')['dom'].apply(lambda x: abs(x-d['dom'])).sort_values()[:1].index[0]\n",
    "            home_df.loc[0,'dom'] = df['dom'].loc[idx_nearest]\n",
    "            home_df['clean'] = home_df['street'] + ','+home_df['dom'].astype(str)\n",
    "            print('some info from : ',home_df['clean'][0])\n",
    "            cat_df=home_df.apply(lambda x: d_[x.name].transform(x) if x.name in list(d_.keys()) else x)\n",
    "        except:\n",
    "            gb__=df.groupby(['district','rooms','max_floors'])['clean'].apply(pd.Series.mode).reset_index().drop('level_3',axis=1)\n",
    "            home_df=home_df.merge(gb__,how='left',on=gb__.columns.to_list()[:-1])\n",
    "            home_df[['street','dom']] = home_df.clean.str.split(',',expand=True)\n",
    "            print('some info from : ',home_df['clean'][0])\n",
    "            cat_df=home_df.apply(lambda x: d_[x.name].transform(x) if x.name in list(d_.keys()) else x)\n",
    "    #cat_df = cat_df[cat.feature_names_]\n",
    "    price=lgb.predict(cat_df)\n",
    "    return(price)"
   ]
  },
  {
   "cell_type": "code",
   "execution_count": 70,
   "metadata": {},
   "outputs": [],
   "source": [
    "d_tr= {}"
   ]
  },
  {
   "cell_type": "code",
   "execution_count": 71,
   "metadata": {},
   "outputs": [],
   "source": [
    "d_tr['district'] = 'р-н Краснооктябрьский'\n",
    "d_tr['street'] = 'Триумфальная'\n",
    "d_tr['dom'] = 24\n",
    "d_tr['rooms'] = '3'\n",
    "d_tr['m2'] = 68\n",
    "d_tr['floor'] = 7\n",
    "d_tr['max_floors'] = 9"
   ]
  },
  {
   "cell_type": "code",
   "execution_count": 72,
   "metadata": {},
   "outputs": [
    {
     "data": {
      "text/plain": [
       "array([3283847.2314975])"
      ]
     },
     "execution_count": 72,
     "metadata": {},
     "output_type": "execute_result"
    }
   ],
   "source": [
    "predict_price(d_tr)"
   ]
  },
  {
   "cell_type": "code",
   "execution_count": 73,
   "metadata": {},
   "outputs": [],
   "source": [
    "d_pod = {}\n",
    "d_pod['district'] = 'р-н Краснооктябрьский'\n",
    "d_pod['street'] = 'Поддубного'\n",
    "d_pod['dom'] = 29\n",
    "d_pod['rooms'] = '2'\n",
    "d_pod['m2'] = 42\n",
    "d_pod['floor'] = 5\n",
    "d_pod['max_floors'] = 5"
   ]
  },
  {
   "cell_type": "code",
   "execution_count": 74,
   "metadata": {},
   "outputs": [
    {
     "data": {
      "text/plain": [
       "array([1829891.04082938])"
      ]
     },
     "execution_count": 74,
     "metadata": {},
     "output_type": "execute_result"
    }
   ],
   "source": [
    "predict_price(d_pod)\n"
   ]
  },
  {
   "cell_type": "code",
   "execution_count": 79,
   "metadata": {},
   "outputs": [],
   "source": [
    "d_ere= {}\n",
    "d_ere['district'] = 'р-н Краснооктябрьский'\n",
    "d_ere['street'] = 'Еременко'\n",
    "d_ere['dom'] = 102\n",
    "d_ere['rooms'] = '2'\n",
    "d_ere['m2'] = 50\n",
    "d_ere['floor'] = 4\n",
    "d_ere['max_floors'] = 5"
   ]
  },
  {
   "cell_type": "code",
   "execution_count": 80,
   "metadata": {},
   "outputs": [
    {
     "data": {
      "text/plain": [
       "array([2114487.06354057])"
      ]
     },
     "execution_count": 80,
     "metadata": {},
     "output_type": "execute_result"
    }
   ],
   "source": [
    "predict_price(d_ere)\n"
   ]
  },
  {
   "cell_type": "code",
   "execution_count": 81,
   "metadata": {},
   "outputs": [
    {
     "data": {
      "text/plain": [
       "<matplotlib.axes._subplots.AxesSubplot at 0x7f844b5b2130>"
      ]
     },
     "execution_count": 81,
     "metadata": {},
     "output_type": "execute_result"
    },
    {
     "data": {
      "image/png": "[encoded data removed]",
      "text/plain": [
       "<Figure size 432x288 with 1 Axes>"
      ]
     },
     "metadata": {},
     "output_type": "display_data"
    }
   ],
   "source": [
    "lgbm.plot_importance(lgb)"
   ]
  },
  {
   "cell_type": "code",
   "execution_count": 82,
   "metadata": {},
   "outputs": [],
   "source": [
    "import shap"
   ]
  },
  {
   "cell_type": "code",
   "execution_count": 83,
   "metadata": {},
   "outputs": [],
   "source": [
    "expl=shap.TreeExplainer(lgb)"
   ]
  },
  {
   "cell_type": "code",
   "execution_count": 84,
   "metadata": {},
   "outputs": [],
   "source": [
    "shap_val=expl.shap_values(data_mani,targ)"
   ]
  },
  {
   "cell_type": "code",
   "execution_count": 88,
   "metadata": {},
   "outputs": [
    {
     "data": {
      "image/png": "[encoded data removed]",
      "text/plain": [
       "<Figure size 576x424.8 with 2 Axes>"
      ]
     },
     "metadata": {},
     "output_type": "display_data"
    }
   ],
   "source": [
    "shap.summary_plot(shap_val,data_mani)"
   ]
  },
  {
   "cell_type": "code",
   "execution_count": 184,
   "metadata": {},
   "outputs": [
    {
     "data": {
      "text/plain": [
       "<matplotlib.axes._subplots.AxesSubplot at 0x7f8f030a46a0>"
      ]
     },
     "execution_count": 184,
     "metadata": {},
     "output_type": "execute_result"
    },
    {
     "data": {
      "image/png": "[encoded data removed]",
      "text/plain": [
       "<Figure size 432x288 with 1 Axes>"
      ]
     },
     "metadata": {},
     "output_type": "display_data"
    }
   ],
   "source": [
    "pd.Series(cat.feature_importances_,cat.feature_names_).sort_values().plot.bar()"
   ]
  },
  {
   "cell_type": "code",
   "execution_count": 327,
   "metadata": {},
   "outputs": [],
   "source": [
    "blend = cat.predict(xv)*.5+lgb.predict(xv)*.5"
   ]
  },
  {
   "cell_type": "code",
   "execution_count": 332,
   "metadata": {},
   "outputs": [],
   "source": [
    "score_comp('blend',score,values=blend,predict=False)"
   ]
  },
  {
   "cell_type": "code",
   "execution_count": 335,
   "metadata": {},
   "outputs": [
    {
     "data": {
      "text/html": [
       "<div>\n",
       "<style scoped>\n",
       "    .dataframe tbody tr th:only-of-type {\n",
       "        vertical-align: middle;\n",
       "    }\n",
       "\n",
       "    .dataframe tbody tr th {\n",
       "        vertical-align: top;\n",
       "    }\n",
       "\n",
       "    .dataframe thead th {\n",
       "        text-align: right;\n",
       "    }\n",
       "</style>\n",
       "<table border=\"1\" class=\"dataframe\">\n",
       "  <thead>\n",
       "    <tr style=\"text-align: right;\">\n",
       "      <th></th>\n",
       "      <th>LGBMRegressor</th>\n",
       "      <th>CatBoostRegressor</th>\n",
       "      <th>blend</th>\n",
       "    </tr>\n",
       "  </thead>\n",
       "  <tbody>\n",
       "    <tr>\n",
       "      <th>0</th>\n",
       "      <td>9.462648e-01</td>\n",
       "      <td>9.226506e-01</td>\n",
       "      <td>9.430055e-01</td>\n",
       "    </tr>\n",
       "    <tr>\n",
       "      <th>1</th>\n",
       "      <td>1.659373e+05</td>\n",
       "      <td>2.728754e+05</td>\n",
       "      <td>2.080889e+05</td>\n",
       "    </tr>\n",
       "    <tr>\n",
       "      <th>2</th>\n",
       "      <td>1.068100e+07</td>\n",
       "      <td>1.085392e+07</td>\n",
       "      <td>1.014486e+07</td>\n",
       "    </tr>\n",
       "  </tbody>\n",
       "</table>\n",
       "</div>"
      ],
      "text/plain": [
       "   LGBMRegressor  CatBoostRegressor         blend\n",
       "0   9.462648e-01       9.226506e-01  9.430055e-01\n",
       "1   1.659373e+05       2.728754e+05  2.080889e+05\n",
       "2   1.068100e+07       1.085392e+07  1.014486e+07"
      ]
     },
     "execution_count": 335,
     "metadata": {},
     "output_type": "execute_result"
    }
   ],
   "source": [
    "pd.DataFrame(score)"
   ]
  },
  {
   "cell_type": "code",
   "execution_count": null,
   "metadata": {},
   "outputs": [],
   "source": [
    "px.sunburst(\n",
    "    df,\n",
    "    path=['district','street','max_floors'],\n",
    "    values='m2',\n",
    "    height=800\n",
    ")"
   ]
  }
 ],
 "metadata": {
  "kernelspec": {
   "display_name": "Python 3.8.2 64-bit",
   "language": "python",
   "name": "python38264bit65426f1eb6eb49e6a51e0202fd08e411"
  },
  "language_info": {
   "codemirror_mode": {
    "name": "ipython",
    "version": 3
   },
   "file_extension": ".py",
   "mimetype": "text/x-python",
   "name": "python",
   "nbconvert_exporter": "python",
   "pygments_lexer": "ipython3",
   "version": "3.8.3"
  }
 },
 "nbformat": 4,
 "nbformat_minor": 4
}
